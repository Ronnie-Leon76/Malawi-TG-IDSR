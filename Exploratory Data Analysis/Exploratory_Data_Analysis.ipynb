{
 "cells": [
  {
   "cell_type": "markdown",
   "metadata": {},
   "source": [
    "## Malawi Public Health Systems LLM Challenge\n",
    "Building an AI assistant capable of providing knowledge contained in the Malawi Technical Guidelines for Integrated Disease Surveillance and Response (TGs for IDSR)"
   ]
  },
  {
   "cell_type": "markdown",
   "metadata": {},
   "source": [
    "### Load the necessary packages"
   ]
  },
  {
   "cell_type": "code",
   "execution_count": 1,
   "metadata": {},
   "outputs": [],
   "source": [
    "import pandas as pd\n",
    "import numpy as np\n",
    "import matplotlib.pyplot as plt"
   ]
  },
  {
   "cell_type": "code",
   "execution_count": 2,
   "metadata": {},
   "outputs": [],
   "source": [
    "tg_booklet1_df = pd.read_excel('../data/MWTGBookletsExcel/TG_Booklet_1.xlsx')\n",
    "tg_booklet2_df = pd.read_excel('../data/MWTGBookletsExcel/TG_Booklet_2.xlsx')\n",
    "tg_booklet3_df = pd.read_excel('../data/MWTGBookletsExcel/TG_Booklet_3.xlsx')\n",
    "tg_booklet4_df = pd.read_excel('../data/MWTGBookletsExcel/TG_Booklet_4.xlsx')\n",
    "tg_booklet5_df = pd.read_excel('../data/MWTGBookletsExcel/TG_Booklet_5.xlsx')\n",
    "tg_booklet6_df = pd.read_excel('../data/MWTGBookletsExcel/TG_Booklet_6.xlsx')"
   ]
  },
  {
   "cell_type": "code",
   "execution_count": 3,
   "metadata": {},
   "outputs": [
    {
     "data": {
      "text/html": [
       "<div>\n",
       "<style scoped>\n",
       "    .dataframe tbody tr th:only-of-type {\n",
       "        vertical-align: middle;\n",
       "    }\n",
       "\n",
       "    .dataframe tbody tr th {\n",
       "        vertical-align: top;\n",
       "    }\n",
       "\n",
       "    .dataframe thead th {\n",
       "        text-align: right;\n",
       "    }\n",
       "</style>\n",
       "<table border=\"1\" class=\"dataframe\">\n",
       "  <thead>\n",
       "    <tr style=\"text-align: right;\">\n",
       "      <th></th>\n",
       "      <th>1</th>\n",
       "      <th>Technical Guidelines for﷐INTEGRATED DISEASE SURVEILLANCE  AND  RESPONSE  FOR MALAWI</th>\n",
       "    </tr>\n",
       "  </thead>\n",
       "  <tbody>\n",
       "    <tr>\n",
       "      <th>0</th>\n",
       "      <td>2</td>\n",
       "      <td>THIRD EDITION</td>\n",
       "    </tr>\n",
       "    <tr>\n",
       "      <th>1</th>\n",
       "      <td>3</td>\n",
       "      <td>BOOKLET ONE: INTRODUCTION SECTION</td>\n",
       "    </tr>\n",
       "    <tr>\n",
       "      <th>2</th>\n",
       "      <td>4</td>\n",
       "      <td>￼</td>\n",
       "    </tr>\n",
       "    <tr>\n",
       "      <th>3</th>\n",
       "      <td>5</td>\n",
       "      <td>DECEMBER 2020</td>\n",
       "    </tr>\n",
       "    <tr>\n",
       "      <th>4</th>\n",
       "      <td>6</td>\n",
       "      <td>￼                                             ...</td>\n",
       "    </tr>\n",
       "  </tbody>\n",
       "</table>\n",
       "</div>"
      ],
      "text/plain": [
       "   1  \\\n",
       "0  2   \n",
       "1  3   \n",
       "2  4   \n",
       "3  5   \n",
       "4  6   \n",
       "\n",
       "  Technical Guidelines for﷐INTEGRATED DISEASE SURVEILLANCE  AND  RESPONSE \n",
       "FOR MALAWI  \n",
       "0                                      THIRD EDITION                                   \n",
       "1                BOOKLET ONE: INTRODUCTION SECTION                                     \n",
       "2                                                  ￼                                   \n",
       "3                                      DECEMBER 2020                                   \n",
       "4  ￼                                             ...                                   "
      ]
     },
     "execution_count": 3,
     "metadata": {},
     "output_type": "execute_result"
    }
   ],
   "source": [
    "tg_booklet1_df.head()"
   ]
  },
  {
   "cell_type": "code",
   "execution_count": 4,
   "metadata": {},
   "outputs": [],
   "source": [
    "train_df = pd.read_csv('./Train.csv')"
   ]
  },
  {
   "cell_type": "code",
   "execution_count": 5,
   "metadata": {},
   "outputs": [
    {
     "data": {
      "text/plain": [
       "(748, 6)"
      ]
     },
     "execution_count": 5,
     "metadata": {},
     "output_type": "execute_result"
    }
   ],
   "source": [
    "train_df.shape"
   ]
  },
  {
   "cell_type": "code",
   "execution_count": 6,
   "metadata": {},
   "outputs": [
    {
     "data": {
      "text/plain": [
       "Index(['ID', 'Question Text', 'Question Answer', 'Reference Document',\n",
       "       'Paragraph(s) Number', 'Keywords'],\n",
       "      dtype='object')"
      ]
     },
     "execution_count": 6,
     "metadata": {},
     "output_type": "execute_result"
    }
   ],
   "source": [
    "# List column names\n",
    "train_df.columns"
   ]
  },
  {
   "cell_type": "code",
   "execution_count": 7,
   "metadata": {},
   "outputs": [
    {
     "data": {
      "text/html": [
       "<div>\n",
       "<style scoped>\n",
       "    .dataframe tbody tr th:only-of-type {\n",
       "        vertical-align: middle;\n",
       "    }\n",
       "\n",
       "    .dataframe tbody tr th {\n",
       "        vertical-align: top;\n",
       "    }\n",
       "\n",
       "    .dataframe thead th {\n",
       "        text-align: right;\n",
       "    }\n",
       "</style>\n",
       "<table border=\"1\" class=\"dataframe\">\n",
       "  <thead>\n",
       "    <tr style=\"text-align: right;\">\n",
       "      <th></th>\n",
       "      <th>ID</th>\n",
       "      <th>Question Text</th>\n",
       "      <th>Question Answer</th>\n",
       "      <th>Reference Document</th>\n",
       "      <th>Paragraph(s) Number</th>\n",
       "      <th>Keywords</th>\n",
       "    </tr>\n",
       "  </thead>\n",
       "  <tbody>\n",
       "    <tr>\n",
       "      <th>0</th>\n",
       "      <td>Q829</td>\n",
       "      <td>Compare the laboratory confirmation methods fo...</td>\n",
       "      <td>Chikungunya is confirmed using serological tes...</td>\n",
       "      <td>TG Booklet 6</td>\n",
       "      <td>154, 166</td>\n",
       "      <td>Laboratory Confirmation For Chikungunya Vs. Di...</td>\n",
       "    </tr>\n",
       "    <tr>\n",
       "      <th>1</th>\n",
       "      <td>Q721</td>\n",
       "      <td>When should specimens be collected for Anthrax...</td>\n",
       "      <td>Specimens should be collected during the vesic...</td>\n",
       "      <td>TG Booklet 6</td>\n",
       "      <td>140</td>\n",
       "      <td>Anthrax Specimen Collection: Timing, Preparati...</td>\n",
       "    </tr>\n",
       "    <tr>\n",
       "      <th>2</th>\n",
       "      <td>Q464</td>\n",
       "      <td>Which key information should be recorded durin...</td>\n",
       "      <td>During a register review, key information abou...</td>\n",
       "      <td>TG Booklet 3</td>\n",
       "      <td>439-440</td>\n",
       "      <td>Register Review, Key Information, Suspected Ca...</td>\n",
       "    </tr>\n",
       "    <tr>\n",
       "      <th>3</th>\n",
       "      <td>Q449</td>\n",
       "      <td>Why is the District log of suspected outbreaks...</td>\n",
       "      <td>The log includes information about response ac...</td>\n",
       "      <td>TG Booklet 3</td>\n",
       "      <td>412</td>\n",
       "      <td>District Log, Response Activities, Steps Taken...</td>\n",
       "    </tr>\n",
       "    <tr>\n",
       "      <th>4</th>\n",
       "      <td>Q6</td>\n",
       "      <td>What do Community based surveillance strategie...</td>\n",
       "      <td>Community-based surveillance strategies focus ...</td>\n",
       "      <td>TG Booklet 1</td>\n",
       "      <td>86</td>\n",
       "      <td>Community-based Surveillance Strategies, Ident...</td>\n",
       "    </tr>\n",
       "  </tbody>\n",
       "</table>\n",
       "</div>"
      ],
      "text/plain": [
       "     ID                                      Question Text  \\\n",
       "0  Q829  Compare the laboratory confirmation methods fo...   \n",
       "1  Q721  When should specimens be collected for Anthrax...   \n",
       "2  Q464  Which key information should be recorded durin...   \n",
       "3  Q449  Why is the District log of suspected outbreaks...   \n",
       "4    Q6  What do Community based surveillance strategie...   \n",
       "\n",
       "                                     Question Answer Reference Document  \\\n",
       "0  Chikungunya is confirmed using serological tes...       TG Booklet 6   \n",
       "1  Specimens should be collected during the vesic...       TG Booklet 6   \n",
       "2  During a register review, key information abou...       TG Booklet 3   \n",
       "3  The log includes information about response ac...       TG Booklet 3   \n",
       "4  Community-based surveillance strategies focus ...       TG Booklet 1   \n",
       "\n",
       "  Paragraph(s) Number                                           Keywords  \n",
       "0            154, 166  Laboratory Confirmation For Chikungunya Vs. Di...  \n",
       "1                 140  Anthrax Specimen Collection: Timing, Preparati...  \n",
       "2             439-440  Register Review, Key Information, Suspected Ca...  \n",
       "3                 412  District Log, Response Activities, Steps Taken...  \n",
       "4                  86  Community-based Surveillance Strategies, Ident...  "
      ]
     },
     "execution_count": 7,
     "metadata": {},
     "output_type": "execute_result"
    }
   ],
   "source": [
    "train_df.head()"
   ]
  },
  {
   "cell_type": "code",
   "execution_count": 8,
   "metadata": {},
   "outputs": [],
   "source": [
    "# Rename the Question Text column to Instruction and Question Answer column to Response\n",
    "train_df.rename(columns={'Question Text':'Instruction','Question Answer':'Response'}, inplace=True)"
   ]
  },
  {
   "cell_type": "code",
   "execution_count": 9,
   "metadata": {},
   "outputs": [],
   "source": [
    "# Save train_df to a new csv file\n",
    "train_df.to_csv('Train_.csv', index=False)"
   ]
  },
  {
   "cell_type": "code",
   "execution_count": 12,
   "metadata": {},
   "outputs": [],
   "source": [
    "from datasets import load_dataset\n",
    "dataset = load_dataset('csv', data_files='Train_.csv')"
   ]
  },
  {
   "cell_type": "code",
   "execution_count": 13,
   "metadata": {},
   "outputs": [],
   "source": [
    "dataset"
   ]
  },
  {
   "cell_type": "code",
   "execution_count": null,
   "metadata": {},
   "outputs": [],
   "source": [
    "# Iterate through the dataset and print the first 5 rows\n",
    "for i in range(5):\n",
    "    print(dataset['train'][i])"
   ]
  },
  {
   "cell_type": "code",
   "execution_count": 36,
   "metadata": {},
   "outputs": [],
   "source": [
    "alpaca_prompt = \"\"\"Below is a question posed by healthcare professionals\n",
    "including nurses, doctors, and researchers in Malawi,\n",
    "all of whom actively engage in disease surveillance efforts.\n",
    "Offer a response that is both accurate and concise, incorporating\n",
    "relevant keywords to address the inquiry effectively.\n",
    "\n",
    "### Question:\n",
    "{}\n",
    "\n",
    "### Answer:\n",
    "{}\n",
    "\n",
    "### Keywords:\n",
    "{}\n",
    "\"\"\"\n",
    "\n",
    "\n",
    "def formatting_prompts_func(examples):\n",
    "    questions = examples[\"Instruction\"]\n",
    "    answers = examples[\"Response\"]\n",
    "    keywords = examples[\"Keywords\"]\n",
    "    texts = []\n",
    "    for question, answer, keyword in zip(questions, answers, keywords):\n",
    "        text = alpaca_prompt.format(question, answer, keyword)\n",
    "        texts.append(text)\n",
    "    return { \"text\" : texts}"
   ]
  },
  {
   "cell_type": "code",
   "execution_count": 38,
   "metadata": {},
   "outputs": [],
   "source": [
    "import collections.abc\n",
    "instruction_dataset_ = [formatting_prompts_func(item) for item in instruction_dataset if isinstance(item, collections.abc.Iterable)]"
   ]
  },
  {
   "cell_type": "code",
   "execution_count": 39,
   "metadata": {},
   "outputs": [],
   "source": [
    "instruction_dataset_ = [formatting_prompts_func(item) for item in instruction_dataset]"
   ]
  },
  {
   "cell_type": "code",
   "execution_count": 10,
   "metadata": {},
   "outputs": [],
   "source": [
    "# Load the test dataset\n",
    "test_df = pd.read_csv('../Test.csv')"
   ]
  },
  {
   "cell_type": "code",
   "execution_count": 14,
   "metadata": {},
   "outputs": [
    {
     "data": {
      "text/html": [
       "<div>\n",
       "<style scoped>\n",
       "    .dataframe tbody tr th:only-of-type {\n",
       "        vertical-align: middle;\n",
       "    }\n",
       "\n",
       "    .dataframe tbody tr th {\n",
       "        vertical-align: top;\n",
       "    }\n",
       "\n",
       "    .dataframe thead th {\n",
       "        text-align: right;\n",
       "    }\n",
       "</style>\n",
       "<table border=\"1\" class=\"dataframe\">\n",
       "  <thead>\n",
       "    <tr style=\"text-align: right;\">\n",
       "      <th></th>\n",
       "      <th>ID</th>\n",
       "      <th>Question Text</th>\n",
       "    </tr>\n",
       "  </thead>\n",
       "  <tbody>\n",
       "    <tr>\n",
       "      <th>0</th>\n",
       "      <td>Q4</td>\n",
       "      <td>What is the definition of \"unusual event\"</td>\n",
       "    </tr>\n",
       "    <tr>\n",
       "      <th>1</th>\n",
       "      <td>Q5</td>\n",
       "      <td>What is Community Based Surveillance (CBS)?</td>\n",
       "    </tr>\n",
       "    <tr>\n",
       "      <th>2</th>\n",
       "      <td>Q9</td>\n",
       "      <td>What kind of training should members of VHC re...</td>\n",
       "    </tr>\n",
       "    <tr>\n",
       "      <th>3</th>\n",
       "      <td>Q10</td>\n",
       "      <td>What is indicator based surveillance (IBS)?</td>\n",
       "    </tr>\n",
       "    <tr>\n",
       "      <th>4</th>\n",
       "      <td>Q13</td>\n",
       "      <td>What is Case based surveillance?</td>\n",
       "    </tr>\n",
       "  </tbody>\n",
       "</table>\n",
       "</div>"
      ],
      "text/plain": [
       "    ID                                      Question Text\n",
       "0   Q4          What is the definition of \"unusual event\"\n",
       "1   Q5        What is Community Based Surveillance (CBS)?\n",
       "2   Q9  What kind of training should members of VHC re...\n",
       "3  Q10        What is indicator based surveillance (IBS)?\n",
       "4  Q13                   What is Case based surveillance?"
      ]
     },
     "execution_count": 14,
     "metadata": {},
     "output_type": "execute_result"
    }
   ],
   "source": [
    "test_df.head()"
   ]
  },
  {
   "cell_type": "code",
   "execution_count": 15,
   "metadata": {},
   "outputs": [
    {
     "data": {
      "text/plain": [
       "(499, 2)"
      ]
     },
     "execution_count": 15,
     "metadata": {},
     "output_type": "execute_result"
    }
   ],
   "source": [
    "test_df.shape"
   ]
  },
  {
   "cell_type": "code",
   "execution_count": 12,
   "metadata": {},
   "outputs": [],
   "source": [
    "# Create a Submission dataframe that contains the following columns: ID, and Target\n",
    "submission_df = pd.DataFrame(columns=['ID', 'Target'])"
   ]
  },
  {
   "cell_type": "code",
   "execution_count": null,
   "metadata": {},
   "outputs": [],
   "source": [
    "inputs = tokenizer(\n",
    "[\n",
    "    alpaca_prompt.format(\n",
    "        \"What is the definition of 'unusual event'\", # Instruction\n",
    "        \"\", # Response\n",
    "        \"\", # Reference Document\n",
    "        \"\", # Paragraph(s) Number\n",
    "        \"\", # Keywords\n",
    "    )\n",
    "]*1, return_tensors = \"pt\").to(\"cuda\")\n",
    "\n",
    "outputs = model.generate(**inputs, max_new_tokens = 128, use_cache = True)\n",
    "tokenizer.batch_decode(outputs)"
   ]
  },
  {
   "cell_type": "code",
   "execution_count": null,
   "metadata": {},
   "outputs": [],
   "source": [
    "# Iterate through the test_df and take the Question Text and make inference to the model defined in the above cell and set the instruction to the Question Text and from the model's response pick the Keywords and set the entry in the ID column as follows Q4_keywords with the value being the keywords, paragraph(s) number as Q4_paragraph(s)_number with the value from model output, Response as Q4_question_answer and the Reference Document as Q4_reference_document\n",
    "for index, row in test_df.iterrows():\n",
    "    inputs = tokenizer(\n",
    "        [\n",
    "            alpaca_prompt.format(\n",
    "                row['Question Text'], # Instruction\n",
    "                \"\", # Response\n",
    "                \"\", # Reference Document\n",
    "                \"\", # Paragraph(s) Number\n",
    "                \"\", # Keywords\n",
    "            )\n",
    "        ]*1, return_tensors = \"pt\").to(\"cuda\")\n",
    "    outputs = model.generate(**inputs, max_new_tokens = 128, use_cache = True)\n",
    "    response = tokenizer.batch_decode(outputs)\n",
    "    # Regex pattern\n",
    "    pattern = r'### Response:\\n(?P<Response>.*?)\\n\\n### Reference Document:\\n(?P<Reference_Document>.*?)\\n\\n### Paragraph\\(s\\) Number:\\n(?P<Paragraphs_Number>.*?)\\n\\n### Keywords:\\n(?P<Keywords>.*?)\\n\\n'\n",
    "\n",
    "    # Find all matches\n",
    "    matches = re.findall(pattern, response, re.DOTALL)\n",
    "\n",
    "    # Extracted fields\n",
    "    for match in matches[1:]:  # Start from the second response\n",
    "        response = match[0].strip()\n",
    "        reference_document = match[1].strip()\n",
    "        paragraphs_number = match[2].strip()\n",
    "        keywords = match[3].strip()\n",
    "\n",
    "        print(\"Response:\", response)\n",
    "        print(\"Reference Document:\", reference_document)\n",
    "        print(\"Paragraph(s) Number:\", paragraphs_number)\n",
    "        print(\"Keywords:\", keywords)\n",
    "        print()\n",
    "    # Append the response, reference_document, paragraphs_number, keywords to the submission_df in the row entries i.e Q4_question_answer, Q4_keywords, Q4_paragraph(s)_number, Q4_reference_document\n",
    "    submission_df.loc[index, f\"{row['ID']}_question_answer\"] = response\n",
    "    submission_df.loc[index, f\"{row['ID']}_keywords\"] = keywords\n",
    "    submission_df.loc[index, f\"{row['ID']}_paragraph(s)_number\"] = paragraphs_number\n",
    "    submission_df.loc[index, f\"{row['ID']}_reference_document\"] = reference_document\n",
    "\n",
    "    "
   ]
  },
  {
   "cell_type": "code",
   "execution_count": 16,
   "metadata": {},
   "outputs": [],
   "source": [
    "sample_submission_df = pd.read_csv('../SampleSubmission.csv')"
   ]
  },
  {
   "cell_type": "code",
   "execution_count": 17,
   "metadata": {},
   "outputs": [
    {
     "data": {
      "text/plain": [
       "(1996, 2)"
      ]
     },
     "execution_count": 17,
     "metadata": {},
     "output_type": "execute_result"
    }
   ],
   "source": [
    "sample_submission_df.shape"
   ]
  },
  {
   "cell_type": "code",
   "execution_count": 44,
   "metadata": {},
   "outputs": [],
   "source": [
    "submission1_df = pd.read_csv('../EDA/submission1.csv')"
   ]
  },
  {
   "cell_type": "code",
   "execution_count": 45,
   "metadata": {},
   "outputs": [
    {
     "data": {
      "text/html": [
       "<div>\n",
       "<style scoped>\n",
       "    .dataframe tbody tr th:only-of-type {\n",
       "        vertical-align: middle;\n",
       "    }\n",
       "\n",
       "    .dataframe tbody tr th {\n",
       "        vertical-align: top;\n",
       "    }\n",
       "\n",
       "    .dataframe thead th {\n",
       "        text-align: right;\n",
       "    }\n",
       "</style>\n",
       "<table border=\"1\" class=\"dataframe\">\n",
       "  <thead>\n",
       "    <tr style=\"text-align: right;\">\n",
       "      <th></th>\n",
       "      <th>ID</th>\n",
       "      <th>Target</th>\n",
       "      <th>Q4_question_answer</th>\n",
       "      <th>Q4_keywords</th>\n",
       "      <th>Q4_paragraph(s)_number</th>\n",
       "      <th>Q4_reference_document</th>\n",
       "      <th>Q5_question_answer</th>\n",
       "      <th>Q5_keywords</th>\n",
       "      <th>Q5_paragraph(s)_number</th>\n",
       "      <th>Q5_reference_document</th>\n",
       "      <th>Q9_question_answer</th>\n",
       "      <th>Q9_keywords</th>\n",
       "      <th>Q9_paragraph(s)_number</th>\n",
       "      <th>Q9_reference_document</th>\n",
       "      <th>Q10_question_answer</th>\n",
       "      <th>Q10_keywords</th>\n",
       "      <th>Q10_paragraph(s)_number</th>\n",
       "      <th>Q10_reference_document</th>\n",
       "    </tr>\n",
       "  </thead>\n",
       "  <tbody>\n",
       "    <tr>\n",
       "      <th>0</th>\n",
       "      <td>NaN</td>\n",
       "      <td>NaN</td>\n",
       "      <td>An unusual event is an occurrence that is unex...</td>\n",
       "      <td>Unusual Event, Unexpected, Uncommon, Noteworth...</td>\n",
       "      <td>106.0</td>\n",
       "      <td>TG Booklet 1</td>\n",
       "      <td>NaN</td>\n",
       "      <td>NaN</td>\n",
       "      <td>NaN</td>\n",
       "      <td>NaN</td>\n",
       "      <td>NaN</td>\n",
       "      <td>NaN</td>\n",
       "      <td>NaN</td>\n",
       "      <td>NaN</td>\n",
       "      <td>NaN</td>\n",
       "      <td>NaN</td>\n",
       "      <td>NaN</td>\n",
       "      <td>NaN</td>\n",
       "    </tr>\n",
       "    <tr>\n",
       "      <th>1</th>\n",
       "      <td>NaN</td>\n",
       "      <td>NaN</td>\n",
       "      <td>NaN</td>\n",
       "      <td>NaN</td>\n",
       "      <td>NaN</td>\n",
       "      <td>NaN</td>\n",
       "      <td>Community Based Surveillance (CBS) is a strate...</td>\n",
       "      <td>Community Based Surveillance (CBS), Early Dete...</td>\n",
       "      <td>761.0</td>\n",
       "      <td>TG Booklet 2</td>\n",
       "      <td>NaN</td>\n",
       "      <td>NaN</td>\n",
       "      <td>NaN</td>\n",
       "      <td>NaN</td>\n",
       "      <td>NaN</td>\n",
       "      <td>NaN</td>\n",
       "      <td>NaN</td>\n",
       "      <td>NaN</td>\n",
       "    </tr>\n",
       "    <tr>\n",
       "      <th>2</th>\n",
       "      <td>NaN</td>\n",
       "      <td>NaN</td>\n",
       "      <td>NaN</td>\n",
       "      <td>NaN</td>\n",
       "      <td>NaN</td>\n",
       "      <td>NaN</td>\n",
       "      <td>NaN</td>\n",
       "      <td>NaN</td>\n",
       "      <td>NaN</td>\n",
       "      <td>NaN</td>\n",
       "      <td>Members of VHC should receive training on the ...</td>\n",
       "      <td>VHC Training, Role, Reporting, Reporting Form</td>\n",
       "      <td>369.0</td>\n",
       "      <td>TG Booklet 3</td>\n",
       "      <td>NaN</td>\n",
       "      <td>NaN</td>\n",
       "      <td>NaN</td>\n",
       "      <td>NaN</td>\n",
       "    </tr>\n",
       "    <tr>\n",
       "      <th>3</th>\n",
       "      <td>NaN</td>\n",
       "      <td>NaN</td>\n",
       "      <td>NaN</td>\n",
       "      <td>NaN</td>\n",
       "      <td>NaN</td>\n",
       "      <td>NaN</td>\n",
       "      <td>NaN</td>\n",
       "      <td>NaN</td>\n",
       "      <td>NaN</td>\n",
       "      <td>NaN</td>\n",
       "      <td>NaN</td>\n",
       "      <td>NaN</td>\n",
       "      <td>NaN</td>\n",
       "      <td>NaN</td>\n",
       "      <td>Indicator-based surveillance (IBS) is a type o...</td>\n",
       "      <td>Indicator-based Surveillance, Specific Indicat...</td>\n",
       "      <td>761.0</td>\n",
       "      <td>TG Booklet 2</td>\n",
       "    </tr>\n",
       "    <tr>\n",
       "      <th>4</th>\n",
       "      <td>Q4_question_answer</td>\n",
       "      <td>An unusual event is an occurrence that is unex...</td>\n",
       "      <td>NaN</td>\n",
       "      <td>NaN</td>\n",
       "      <td>NaN</td>\n",
       "      <td>NaN</td>\n",
       "      <td>NaN</td>\n",
       "      <td>NaN</td>\n",
       "      <td>NaN</td>\n",
       "      <td>NaN</td>\n",
       "      <td>NaN</td>\n",
       "      <td>NaN</td>\n",
       "      <td>NaN</td>\n",
       "      <td>NaN</td>\n",
       "      <td>NaN</td>\n",
       "      <td>NaN</td>\n",
       "      <td>NaN</td>\n",
       "      <td>NaN</td>\n",
       "    </tr>\n",
       "  </tbody>\n",
       "</table>\n",
       "</div>"
      ],
      "text/plain": [
       "                   ID                                             Target  \\\n",
       "0                 NaN                                                NaN   \n",
       "1                 NaN                                                NaN   \n",
       "2                 NaN                                                NaN   \n",
       "3                 NaN                                                NaN   \n",
       "4  Q4_question_answer  An unusual event is an occurrence that is unex...   \n",
       "\n",
       "                                  Q4_question_answer  \\\n",
       "0  An unusual event is an occurrence that is unex...   \n",
       "1                                                NaN   \n",
       "2                                                NaN   \n",
       "3                                                NaN   \n",
       "4                                                NaN   \n",
       "\n",
       "                                         Q4_keywords  Q4_paragraph(s)_number  \\\n",
       "0  Unusual Event, Unexpected, Uncommon, Noteworth...                   106.0   \n",
       "1                                                NaN                     NaN   \n",
       "2                                                NaN                     NaN   \n",
       "3                                                NaN                     NaN   \n",
       "4                                                NaN                     NaN   \n",
       "\n",
       "  Q4_reference_document                                 Q5_question_answer  \\\n",
       "0          TG Booklet 1                                                NaN   \n",
       "1                   NaN  Community Based Surveillance (CBS) is a strate...   \n",
       "2                   NaN                                                NaN   \n",
       "3                   NaN                                                NaN   \n",
       "4                   NaN                                                NaN   \n",
       "\n",
       "                                         Q5_keywords  Q5_paragraph(s)_number  \\\n",
       "0                                                NaN                     NaN   \n",
       "1  Community Based Surveillance (CBS), Early Dete...                   761.0   \n",
       "2                                                NaN                     NaN   \n",
       "3                                                NaN                     NaN   \n",
       "4                                                NaN                     NaN   \n",
       "\n",
       "  Q5_reference_document                                 Q9_question_answer  \\\n",
       "0                   NaN                                                NaN   \n",
       "1          TG Booklet 2                                                NaN   \n",
       "2                   NaN  Members of VHC should receive training on the ...   \n",
       "3                   NaN                                                NaN   \n",
       "4                   NaN                                                NaN   \n",
       "\n",
       "                                     Q9_keywords  Q9_paragraph(s)_number  \\\n",
       "0                                            NaN                     NaN   \n",
       "1                                            NaN                     NaN   \n",
       "2  VHC Training, Role, Reporting, Reporting Form                   369.0   \n",
       "3                                            NaN                     NaN   \n",
       "4                                            NaN                     NaN   \n",
       "\n",
       "  Q9_reference_document                                Q10_question_answer  \\\n",
       "0                   NaN                                                NaN   \n",
       "1                   NaN                                                NaN   \n",
       "2          TG Booklet 3                                                NaN   \n",
       "3                   NaN  Indicator-based surveillance (IBS) is a type o...   \n",
       "4                   NaN                                                NaN   \n",
       "\n",
       "                                        Q10_keywords  Q10_paragraph(s)_number  \\\n",
       "0                                                NaN                      NaN   \n",
       "1                                                NaN                      NaN   \n",
       "2                                                NaN                      NaN   \n",
       "3  Indicator-based Surveillance, Specific Indicat...                    761.0   \n",
       "4                                                NaN                      NaN   \n",
       "\n",
       "  Q10_reference_document  \n",
       "0                    NaN  \n",
       "1                    NaN  \n",
       "2                    NaN  \n",
       "3           TG Booklet 2  \n",
       "4                    NaN  "
      ]
     },
     "execution_count": 45,
     "metadata": {},
     "output_type": "execute_result"
    }
   ],
   "source": [
    "submission1_df.head()"
   ]
  },
  {
   "cell_type": "code",
   "execution_count": 46,
   "metadata": {},
   "outputs": [],
   "source": [
    "# remove the first 4 rows from the submission1_df\n",
    "submission1_df = submission1_df.iloc[4:]"
   ]
  },
  {
   "cell_type": "code",
   "execution_count": 47,
   "metadata": {},
   "outputs": [
    {
     "data": {
      "text/html": [
       "<div>\n",
       "<style scoped>\n",
       "    .dataframe tbody tr th:only-of-type {\n",
       "        vertical-align: middle;\n",
       "    }\n",
       "\n",
       "    .dataframe tbody tr th {\n",
       "        vertical-align: top;\n",
       "    }\n",
       "\n",
       "    .dataframe thead th {\n",
       "        text-align: right;\n",
       "    }\n",
       "</style>\n",
       "<table border=\"1\" class=\"dataframe\">\n",
       "  <thead>\n",
       "    <tr style=\"text-align: right;\">\n",
       "      <th></th>\n",
       "      <th>ID</th>\n",
       "      <th>Target</th>\n",
       "      <th>Q4_question_answer</th>\n",
       "      <th>Q4_keywords</th>\n",
       "      <th>Q4_paragraph(s)_number</th>\n",
       "      <th>Q4_reference_document</th>\n",
       "      <th>Q5_question_answer</th>\n",
       "      <th>Q5_keywords</th>\n",
       "      <th>Q5_paragraph(s)_number</th>\n",
       "      <th>Q5_reference_document</th>\n",
       "      <th>Q9_question_answer</th>\n",
       "      <th>Q9_keywords</th>\n",
       "      <th>Q9_paragraph(s)_number</th>\n",
       "      <th>Q9_reference_document</th>\n",
       "      <th>Q10_question_answer</th>\n",
       "      <th>Q10_keywords</th>\n",
       "      <th>Q10_paragraph(s)_number</th>\n",
       "      <th>Q10_reference_document</th>\n",
       "    </tr>\n",
       "  </thead>\n",
       "  <tbody>\n",
       "    <tr>\n",
       "      <th>4</th>\n",
       "      <td>Q4_question_answer</td>\n",
       "      <td>An unusual event is an occurrence that is unex...</td>\n",
       "      <td>NaN</td>\n",
       "      <td>NaN</td>\n",
       "      <td>NaN</td>\n",
       "      <td>NaN</td>\n",
       "      <td>NaN</td>\n",
       "      <td>NaN</td>\n",
       "      <td>NaN</td>\n",
       "      <td>NaN</td>\n",
       "      <td>NaN</td>\n",
       "      <td>NaN</td>\n",
       "      <td>NaN</td>\n",
       "      <td>NaN</td>\n",
       "      <td>NaN</td>\n",
       "      <td>NaN</td>\n",
       "      <td>NaN</td>\n",
       "      <td>NaN</td>\n",
       "    </tr>\n",
       "    <tr>\n",
       "      <th>5</th>\n",
       "      <td>Q4_keywords</td>\n",
       "      <td>Unusual Event, Unexpected, Uncommon, Noteworth...</td>\n",
       "      <td>NaN</td>\n",
       "      <td>NaN</td>\n",
       "      <td>NaN</td>\n",
       "      <td>NaN</td>\n",
       "      <td>NaN</td>\n",
       "      <td>NaN</td>\n",
       "      <td>NaN</td>\n",
       "      <td>NaN</td>\n",
       "      <td>NaN</td>\n",
       "      <td>NaN</td>\n",
       "      <td>NaN</td>\n",
       "      <td>NaN</td>\n",
       "      <td>NaN</td>\n",
       "      <td>NaN</td>\n",
       "      <td>NaN</td>\n",
       "      <td>NaN</td>\n",
       "    </tr>\n",
       "    <tr>\n",
       "      <th>6</th>\n",
       "      <td>Q4_paragraph(s)_number</td>\n",
       "      <td>106</td>\n",
       "      <td>NaN</td>\n",
       "      <td>NaN</td>\n",
       "      <td>NaN</td>\n",
       "      <td>NaN</td>\n",
       "      <td>NaN</td>\n",
       "      <td>NaN</td>\n",
       "      <td>NaN</td>\n",
       "      <td>NaN</td>\n",
       "      <td>NaN</td>\n",
       "      <td>NaN</td>\n",
       "      <td>NaN</td>\n",
       "      <td>NaN</td>\n",
       "      <td>NaN</td>\n",
       "      <td>NaN</td>\n",
       "      <td>NaN</td>\n",
       "      <td>NaN</td>\n",
       "    </tr>\n",
       "    <tr>\n",
       "      <th>7</th>\n",
       "      <td>Q4_reference_document</td>\n",
       "      <td>TG Booklet 1</td>\n",
       "      <td>NaN</td>\n",
       "      <td>NaN</td>\n",
       "      <td>NaN</td>\n",
       "      <td>NaN</td>\n",
       "      <td>NaN</td>\n",
       "      <td>NaN</td>\n",
       "      <td>NaN</td>\n",
       "      <td>NaN</td>\n",
       "      <td>NaN</td>\n",
       "      <td>NaN</td>\n",
       "      <td>NaN</td>\n",
       "      <td>NaN</td>\n",
       "      <td>NaN</td>\n",
       "      <td>NaN</td>\n",
       "      <td>NaN</td>\n",
       "      <td>NaN</td>\n",
       "    </tr>\n",
       "    <tr>\n",
       "      <th>8</th>\n",
       "      <td>Q5_question_answer</td>\n",
       "      <td>Community Based Surveillance (CBS) is a strate...</td>\n",
       "      <td>NaN</td>\n",
       "      <td>NaN</td>\n",
       "      <td>NaN</td>\n",
       "      <td>NaN</td>\n",
       "      <td>NaN</td>\n",
       "      <td>NaN</td>\n",
       "      <td>NaN</td>\n",
       "      <td>NaN</td>\n",
       "      <td>NaN</td>\n",
       "      <td>NaN</td>\n",
       "      <td>NaN</td>\n",
       "      <td>NaN</td>\n",
       "      <td>NaN</td>\n",
       "      <td>NaN</td>\n",
       "      <td>NaN</td>\n",
       "      <td>NaN</td>\n",
       "    </tr>\n",
       "  </tbody>\n",
       "</table>\n",
       "</div>"
      ],
      "text/plain": [
       "                       ID                                             Target  \\\n",
       "4      Q4_question_answer  An unusual event is an occurrence that is unex...   \n",
       "5             Q4_keywords  Unusual Event, Unexpected, Uncommon, Noteworth...   \n",
       "6  Q4_paragraph(s)_number                                                106   \n",
       "7   Q4_reference_document                                       TG Booklet 1   \n",
       "8      Q5_question_answer  Community Based Surveillance (CBS) is a strate...   \n",
       "\n",
       "  Q4_question_answer Q4_keywords  Q4_paragraph(s)_number  \\\n",
       "4                NaN         NaN                     NaN   \n",
       "5                NaN         NaN                     NaN   \n",
       "6                NaN         NaN                     NaN   \n",
       "7                NaN         NaN                     NaN   \n",
       "8                NaN         NaN                     NaN   \n",
       "\n",
       "  Q4_reference_document Q5_question_answer Q5_keywords  \\\n",
       "4                   NaN                NaN         NaN   \n",
       "5                   NaN                NaN         NaN   \n",
       "6                   NaN                NaN         NaN   \n",
       "7                   NaN                NaN         NaN   \n",
       "8                   NaN                NaN         NaN   \n",
       "\n",
       "   Q5_paragraph(s)_number Q5_reference_document Q9_question_answer  \\\n",
       "4                     NaN                   NaN                NaN   \n",
       "5                     NaN                   NaN                NaN   \n",
       "6                     NaN                   NaN                NaN   \n",
       "7                     NaN                   NaN                NaN   \n",
       "8                     NaN                   NaN                NaN   \n",
       "\n",
       "  Q9_keywords  Q9_paragraph(s)_number Q9_reference_document  \\\n",
       "4         NaN                     NaN                   NaN   \n",
       "5         NaN                     NaN                   NaN   \n",
       "6         NaN                     NaN                   NaN   \n",
       "7         NaN                     NaN                   NaN   \n",
       "8         NaN                     NaN                   NaN   \n",
       "\n",
       "  Q10_question_answer Q10_keywords  Q10_paragraph(s)_number  \\\n",
       "4                 NaN          NaN                      NaN   \n",
       "5                 NaN          NaN                      NaN   \n",
       "6                 NaN          NaN                      NaN   \n",
       "7                 NaN          NaN                      NaN   \n",
       "8                 NaN          NaN                      NaN   \n",
       "\n",
       "  Q10_reference_document  \n",
       "4                    NaN  \n",
       "5                    NaN  \n",
       "6                    NaN  \n",
       "7                    NaN  \n",
       "8                    NaN  "
      ]
     },
     "execution_count": 47,
     "metadata": {},
     "output_type": "execute_result"
    }
   ],
   "source": [
    "submission1_df.head()"
   ]
  },
  {
   "cell_type": "code",
   "execution_count": 48,
   "metadata": {},
   "outputs": [],
   "source": [
    "# Remove any other columns apart from ID and Target\n",
    "submission1_df = submission1_df[['ID', 'Target']]"
   ]
  },
  {
   "cell_type": "code",
   "execution_count": 49,
   "metadata": {},
   "outputs": [
    {
     "data": {
      "text/html": [
       "<div>\n",
       "<style scoped>\n",
       "    .dataframe tbody tr th:only-of-type {\n",
       "        vertical-align: middle;\n",
       "    }\n",
       "\n",
       "    .dataframe tbody tr th {\n",
       "        vertical-align: top;\n",
       "    }\n",
       "\n",
       "    .dataframe thead th {\n",
       "        text-align: right;\n",
       "    }\n",
       "</style>\n",
       "<table border=\"1\" class=\"dataframe\">\n",
       "  <thead>\n",
       "    <tr style=\"text-align: right;\">\n",
       "      <th></th>\n",
       "      <th>ID</th>\n",
       "      <th>Target</th>\n",
       "    </tr>\n",
       "  </thead>\n",
       "  <tbody>\n",
       "    <tr>\n",
       "      <th>4</th>\n",
       "      <td>Q4_question_answer</td>\n",
       "      <td>An unusual event is an occurrence that is unex...</td>\n",
       "    </tr>\n",
       "    <tr>\n",
       "      <th>5</th>\n",
       "      <td>Q4_keywords</td>\n",
       "      <td>Unusual Event, Unexpected, Uncommon, Noteworth...</td>\n",
       "    </tr>\n",
       "    <tr>\n",
       "      <th>6</th>\n",
       "      <td>Q4_paragraph(s)_number</td>\n",
       "      <td>106</td>\n",
       "    </tr>\n",
       "    <tr>\n",
       "      <th>7</th>\n",
       "      <td>Q4_reference_document</td>\n",
       "      <td>TG Booklet 1</td>\n",
       "    </tr>\n",
       "    <tr>\n",
       "      <th>8</th>\n",
       "      <td>Q5_question_answer</td>\n",
       "      <td>Community Based Surveillance (CBS) is a strate...</td>\n",
       "    </tr>\n",
       "  </tbody>\n",
       "</table>\n",
       "</div>"
      ],
      "text/plain": [
       "                       ID                                             Target\n",
       "4      Q4_question_answer  An unusual event is an occurrence that is unex...\n",
       "5             Q4_keywords  Unusual Event, Unexpected, Uncommon, Noteworth...\n",
       "6  Q4_paragraph(s)_number                                                106\n",
       "7   Q4_reference_document                                       TG Booklet 1\n",
       "8      Q5_question_answer  Community Based Surveillance (CBS) is a strate..."
      ]
     },
     "execution_count": 49,
     "metadata": {},
     "output_type": "execute_result"
    }
   ],
   "source": [
    "submission1_df.head()"
   ]
  },
  {
   "cell_type": "code",
   "execution_count": 50,
   "metadata": {},
   "outputs": [],
   "source": [
    "# Compare the submission1_df and sample_submission_df and add rows that are in sample_submission_df but not in submission1_df to submission1_df\n",
    "submission1_df_ = pd.concat([submission1_df, sample_submission_df[~sample_submission_df['ID'].isin(submission1_df['ID'])]])"
   ]
  },
  {
   "cell_type": "code",
   "execution_count": 51,
   "metadata": {},
   "outputs": [
    {
     "data": {
      "text/plain": [
       "(1996, 2)"
      ]
     },
     "execution_count": 51,
     "metadata": {},
     "output_type": "execute_result"
    }
   ],
   "source": [
    "submission1_df_.shape"
   ]
  },
  {
   "cell_type": "code",
   "execution_count": 52,
   "metadata": {},
   "outputs": [
    {
     "data": {
      "text/html": [
       "<div>\n",
       "<style scoped>\n",
       "    .dataframe tbody tr th:only-of-type {\n",
       "        vertical-align: middle;\n",
       "    }\n",
       "\n",
       "    .dataframe tbody tr th {\n",
       "        vertical-align: top;\n",
       "    }\n",
       "\n",
       "    .dataframe thead th {\n",
       "        text-align: right;\n",
       "    }\n",
       "</style>\n",
       "<table border=\"1\" class=\"dataframe\">\n",
       "  <thead>\n",
       "    <tr style=\"text-align: right;\">\n",
       "      <th></th>\n",
       "      <th>ID</th>\n",
       "      <th>Target</th>\n",
       "    </tr>\n",
       "  </thead>\n",
       "  <tbody>\n",
       "    <tr>\n",
       "      <th>4</th>\n",
       "      <td>Q4_question_answer</td>\n",
       "      <td>An unusual event is an occurrence that is unex...</td>\n",
       "    </tr>\n",
       "    <tr>\n",
       "      <th>5</th>\n",
       "      <td>Q4_keywords</td>\n",
       "      <td>Unusual Event, Unexpected, Uncommon, Noteworth...</td>\n",
       "    </tr>\n",
       "    <tr>\n",
       "      <th>6</th>\n",
       "      <td>Q4_paragraph(s)_number</td>\n",
       "      <td>106</td>\n",
       "    </tr>\n",
       "    <tr>\n",
       "      <th>7</th>\n",
       "      <td>Q4_reference_document</td>\n",
       "      <td>TG Booklet 1</td>\n",
       "    </tr>\n",
       "    <tr>\n",
       "      <th>8</th>\n",
       "      <td>Q5_question_answer</td>\n",
       "      <td>Community Based Surveillance (CBS) is a strate...</td>\n",
       "    </tr>\n",
       "  </tbody>\n",
       "</table>\n",
       "</div>"
      ],
      "text/plain": [
       "                       ID                                             Target\n",
       "4      Q4_question_answer  An unusual event is an occurrence that is unex...\n",
       "5             Q4_keywords  Unusual Event, Unexpected, Uncommon, Noteworth...\n",
       "6  Q4_paragraph(s)_number                                                106\n",
       "7   Q4_reference_document                                       TG Booklet 1\n",
       "8      Q5_question_answer  Community Based Surveillance (CBS) is a strate..."
      ]
     },
     "execution_count": 52,
     "metadata": {},
     "output_type": "execute_result"
    }
   ],
   "source": [
    "submission1_df_.head()"
   ]
  },
  {
   "cell_type": "code",
   "execution_count": 53,
   "metadata": {},
   "outputs": [
    {
     "data": {
      "text/html": [
       "<div>\n",
       "<style scoped>\n",
       "    .dataframe tbody tr th:only-of-type {\n",
       "        vertical-align: middle;\n",
       "    }\n",
       "\n",
       "    .dataframe tbody tr th {\n",
       "        vertical-align: top;\n",
       "    }\n",
       "\n",
       "    .dataframe thead th {\n",
       "        text-align: right;\n",
       "    }\n",
       "</style>\n",
       "<table border=\"1\" class=\"dataframe\">\n",
       "  <thead>\n",
       "    <tr style=\"text-align: right;\">\n",
       "      <th></th>\n",
       "      <th>ID</th>\n",
       "      <th>Target</th>\n",
       "    </tr>\n",
       "  </thead>\n",
       "  <tbody>\n",
       "    <tr>\n",
       "      <th>1987</th>\n",
       "      <td>Q998_reference_document</td>\n",
       "      <td></td>\n",
       "    </tr>\n",
       "    <tr>\n",
       "      <th>1988</th>\n",
       "      <td>Q999_keywords</td>\n",
       "      <td></td>\n",
       "    </tr>\n",
       "    <tr>\n",
       "      <th>1989</th>\n",
       "      <td>Q999_paragraph(s)_number</td>\n",
       "      <td></td>\n",
       "    </tr>\n",
       "    <tr>\n",
       "      <th>1990</th>\n",
       "      <td>Q999_question_answer</td>\n",
       "      <td></td>\n",
       "    </tr>\n",
       "    <tr>\n",
       "      <th>1991</th>\n",
       "      <td>Q999_reference_document</td>\n",
       "      <td></td>\n",
       "    </tr>\n",
       "  </tbody>\n",
       "</table>\n",
       "</div>"
      ],
      "text/plain": [
       "                            ID Target\n",
       "1987   Q998_reference_document       \n",
       "1988             Q999_keywords       \n",
       "1989  Q999_paragraph(s)_number       \n",
       "1990      Q999_question_answer       \n",
       "1991   Q999_reference_document       "
      ]
     },
     "execution_count": 53,
     "metadata": {},
     "output_type": "execute_result"
    }
   ],
   "source": [
    "submission1_df_.tail()"
   ]
  },
  {
   "cell_type": "code",
   "execution_count": 42,
   "metadata": {},
   "outputs": [
    {
     "name": "stderr",
     "output_type": "stream",
     "text": [
      "/tmp/ipykernel_142883/1824932921.py:2: UserWarning: This pattern is interpreted as a regular expression, and has match groups. To actually get the groups, use str.extract.\n",
      "  submission1_df_.loc[submission1_df_['ID'].str.contains('Q66_paragraph(s)_number'), 'Target'] = '169-176'\n",
      "/tmp/ipykernel_142883/1824932921.py:3: UserWarning: This pattern is interpreted as a regular expression, and has match groups. To actually get the groups, use str.extract.\n",
      "  submission1_df_.loc[submission1_df_['ID'].str.contains('Q999_paragraph(s)_number'), 'Target'] = '169-176'\n"
     ]
    }
   ],
   "source": [
    "# Set the Target column to an empty string '' where the IDs are Q66_paragraph(s)_number, and Q999_paragraph(s)_number\n",
    "submission1_df_.loc[submission1_df_['ID'].str.contains('Q66_paragraph(s)_number'), 'Target'] = '169-176'\n",
    "submission1_df_.loc[submission1_df_['ID'].str.contains('Q999_paragraph(s)_number'), 'Target'] = '169-176'"
   ]
  },
  {
   "cell_type": "code",
   "execution_count": 40,
   "metadata": {},
   "outputs": [
    {
     "name": "stderr",
     "output_type": "stream",
     "text": [
      "/tmp/ipykernel_142883/1178184275.py:2: UserWarning: This pattern is interpreted as a regular expression, and has match groups. To actually get the groups, use str.extract.\n",
      "  submission1_df_[submission1_df_['ID'].str.contains('Q66_paragraph(s)_number')]\n",
      "/tmp/ipykernel_142883/1178184275.py:3: UserWarning: This pattern is interpreted as a regular expression, and has match groups. To actually get the groups, use str.extract.\n",
      "  submission1_df_[submission1_df_['ID'].str.contains('Q999_paragraph(s)_number')]\n"
     ]
    },
    {
     "data": {
      "text/html": [
       "<div>\n",
       "<style scoped>\n",
       "    .dataframe tbody tr th:only-of-type {\n",
       "        vertical-align: middle;\n",
       "    }\n",
       "\n",
       "    .dataframe tbody tr th {\n",
       "        vertical-align: top;\n",
       "    }\n",
       "\n",
       "    .dataframe thead th {\n",
       "        text-align: right;\n",
       "    }\n",
       "</style>\n",
       "<table border=\"1\" class=\"dataframe\">\n",
       "  <thead>\n",
       "    <tr style=\"text-align: right;\">\n",
       "      <th></th>\n",
       "      <th>ID</th>\n",
       "      <th>Target</th>\n",
       "    </tr>\n",
       "  </thead>\n",
       "  <tbody>\n",
       "  </tbody>\n",
       "</table>\n",
       "</div>"
      ],
      "text/plain": [
       "Empty DataFrame\n",
       "Columns: [ID, Target]\n",
       "Index: []"
      ]
     },
     "execution_count": 40,
     "metadata": {},
     "output_type": "execute_result"
    }
   ],
   "source": [
    "# Set the Target column for the ID Q66_paragraph(s)_number to the value similar to Q999_paragraph(s)_number\n",
    "submission1_df_.loc[submission1_df_[submission1_df_['ID'] == 'Q999_paragraph(s)_number'].index, 'Target'] = submission1_df_[submission1_df_['ID'] == 'Q66_paragraph(s)_number']['Target'].values[0]"
   ]
  },
  {
   "cell_type": "code",
   "execution_count": 55,
   "metadata": {},
   "outputs": [],
   "source": [
    "# Set the Target column for the Q66_paragraph(s)_number in submission1_df_ to the value similar to Q66_paragraph(s)_number in sample_submission_df\n",
    "submission1_df_.loc[submission1_df_[submission1_df_['ID'] == 'Q66_paragraph(s)_number'].index, 'Target'] = sample_submission_df[sample_submission_df['ID'] == 'Q66_paragraph(s)_number']['Target'].values[0]"
   ]
  },
  {
   "cell_type": "code",
   "execution_count": 57,
   "metadata": {},
   "outputs": [],
   "source": [
    "# Look for Target values with [] and replace them with the value in the Target column with ID Q66_paragraph(s)_number\n",
    "submission1_df_.loc[submission1_df_['Target'] == '[]', 'Target'] = submission1_df_[submission1_df_['ID'] == 'Q66_paragraph(s)_number']['Target'].values[0]"
   ]
  },
  {
   "cell_type": "code",
   "execution_count": 58,
   "metadata": {},
   "outputs": [
    {
     "data": {
      "text/html": [
       "<div>\n",
       "<style scoped>\n",
       "    .dataframe tbody tr th:only-of-type {\n",
       "        vertical-align: middle;\n",
       "    }\n",
       "\n",
       "    .dataframe tbody tr th {\n",
       "        vertical-align: top;\n",
       "    }\n",
       "\n",
       "    .dataframe thead th {\n",
       "        text-align: right;\n",
       "    }\n",
       "</style>\n",
       "<table border=\"1\" class=\"dataframe\">\n",
       "  <thead>\n",
       "    <tr style=\"text-align: right;\">\n",
       "      <th></th>\n",
       "      <th>ID</th>\n",
       "      <th>Target</th>\n",
       "    </tr>\n",
       "  </thead>\n",
       "  <tbody>\n",
       "  </tbody>\n",
       "</table>\n",
       "</div>"
      ],
      "text/plain": [
       "Empty DataFrame\n",
       "Columns: [ID, Target]\n",
       "Index: []"
      ]
     },
     "execution_count": 58,
     "metadata": {},
     "output_type": "execute_result"
    }
   ],
   "source": [
    "# Check for any Target values with []\n",
    "submission1_df_[submission1_df_['Target'] == '[]']"
   ]
  },
  {
   "cell_type": "code",
   "execution_count": 59,
   "metadata": {},
   "outputs": [],
   "source": [
    "submission1_df_.to_csv('submission.csv', index=False)"
   ]
  },
  {
   "cell_type": "code",
   "execution_count": 39,
   "metadata": {},
   "outputs": [
    {
     "data": {
      "text/html": [
       "<div>\n",
       "<style scoped>\n",
       "    .dataframe tbody tr th:only-of-type {\n",
       "        vertical-align: middle;\n",
       "    }\n",
       "\n",
       "    .dataframe tbody tr th {\n",
       "        vertical-align: top;\n",
       "    }\n",
       "\n",
       "    .dataframe thead th {\n",
       "        text-align: right;\n",
       "    }\n",
       "</style>\n",
       "<table border=\"1\" class=\"dataframe\">\n",
       "  <thead>\n",
       "    <tr style=\"text-align: right;\">\n",
       "      <th></th>\n",
       "      <th>ID</th>\n",
       "      <th>Target</th>\n",
       "    </tr>\n",
       "  </thead>\n",
       "  <tbody>\n",
       "  </tbody>\n",
       "</table>\n",
       "</div>"
      ],
      "text/plain": [
       "Empty DataFrame\n",
       "Columns: [ID, Target]\n",
       "Index: []"
      ]
     },
     "execution_count": 39,
     "metadata": {},
     "output_type": "execute_result"
    }
   ],
   "source": [
    "# Check for duplicates in the submission1_df_\n",
    "submission1_df_[submission1_df_.duplicated(subset='ID')]"
   ]
  },
  {
   "cell_type": "code",
   "execution_count": 60,
   "metadata": {},
   "outputs": [],
   "source": [
    "submission2_df = pd.read_csv('../EDA/submission2.csv')"
   ]
  },
  {
   "cell_type": "code",
   "execution_count": 61,
   "metadata": {},
   "outputs": [
    {
     "data": {
      "text/html": [
       "<div>\n",
       "<style scoped>\n",
       "    .dataframe tbody tr th:only-of-type {\n",
       "        vertical-align: middle;\n",
       "    }\n",
       "\n",
       "    .dataframe tbody tr th {\n",
       "        vertical-align: top;\n",
       "    }\n",
       "\n",
       "    .dataframe thead th {\n",
       "        text-align: right;\n",
       "    }\n",
       "</style>\n",
       "<table border=\"1\" class=\"dataframe\">\n",
       "  <thead>\n",
       "    <tr style=\"text-align: right;\">\n",
       "      <th></th>\n",
       "      <th>ID</th>\n",
       "      <th>Target</th>\n",
       "    </tr>\n",
       "  </thead>\n",
       "  <tbody>\n",
       "    <tr>\n",
       "      <th>0</th>\n",
       "      <td>Q4_question_answer</td>\n",
       "      <td>An unusual event is an occurrence that is unex...</td>\n",
       "    </tr>\n",
       "    <tr>\n",
       "      <th>1</th>\n",
       "      <td>Q4_keywords</td>\n",
       "      <td>Unusual Event, Unexpected, Uncommon, Noteworth...</td>\n",
       "    </tr>\n",
       "    <tr>\n",
       "      <th>2</th>\n",
       "      <td>Q4_paragraph(s)_number</td>\n",
       "      <td>106</td>\n",
       "    </tr>\n",
       "    <tr>\n",
       "      <th>3</th>\n",
       "      <td>Q4_reference_document</td>\n",
       "      <td>TG Booklet 1</td>\n",
       "    </tr>\n",
       "    <tr>\n",
       "      <th>4</th>\n",
       "      <td>Q5_question_answer</td>\n",
       "      <td>Community Based Surveillance (CBS) is a strate...</td>\n",
       "    </tr>\n",
       "  </tbody>\n",
       "</table>\n",
       "</div>"
      ],
      "text/plain": [
       "                       ID                                             Target\n",
       "0      Q4_question_answer  An unusual event is an occurrence that is unex...\n",
       "1             Q4_keywords  Unusual Event, Unexpected, Uncommon, Noteworth...\n",
       "2  Q4_paragraph(s)_number                                                106\n",
       "3   Q4_reference_document                                       TG Booklet 1\n",
       "4      Q5_question_answer  Community Based Surveillance (CBS) is a strate..."
      ]
     },
     "execution_count": 61,
     "metadata": {},
     "output_type": "execute_result"
    }
   ],
   "source": [
    "submission2_df.head()"
   ]
  },
  {
   "cell_type": "code",
   "execution_count": 62,
   "metadata": {},
   "outputs": [
    {
     "data": {
      "text/plain": [
       "(940, 2)"
      ]
     },
     "execution_count": 62,
     "metadata": {},
     "output_type": "execute_result"
    }
   ],
   "source": [
    "submission2_df.shape"
   ]
  },
  {
   "cell_type": "code",
   "execution_count": 67,
   "metadata": {},
   "outputs": [
    {
     "data": {
      "text/plain": [
       "array(['An unusual event is an occurrence that is unexpected, uncommon, or noteworthy, and may indicate a potential public health concern.',\n",
       "       'Unusual Event, Unexpected, Uncommon, Noteworthy, Potential Public Health Concern',\n",
       "       '106', 'TG Booklet 1',\n",
       "       'Community Based Surveillance (CBS) is a strategy that involves the community in the early detection and response to public health events.',\n",
       "       'Community Based Surveillance (CBS), Early Detection, Public Health Events, Community Involvement',\n",
       "       '761', 'TG Booklet 2',\n",
       "       'Members of VHC should receive training on the role of VHC, the importance of reporting, and the use of the reporting form.',\n",
       "       'VHC Training, Role, Reporting, Reporting Form', '369',\n",
       "       'TG Booklet 3',\n",
       "       'Indicator-based surveillance (IBS) is a type of surveillance that focuses on specific indicators or events of public health importance. It involves monitoring the occurrence of these indicators or events over time to assess the impact of public health interventions and inform decision-making.',\n",
       "       'Indicator-based Surveillance, Specific Indicators, Public Health Importance, Monitoring, Impact Assessment, Decision-making',\n",
       "       'Case-based surveillance is a system that focuses on the detection and investigation of individual cases of diseases or events of public health importance.',\n",
       "       'Case-based Surveillance, Detection, Investigation, Individual Cases, Diseases, Events, Public Health Importance',\n",
       "       'Diseases that are best monitored using syndromic surveillance include diarrhoea, acute respiratory infections, malnutrition, and measles.',\n",
       "       'Diseases, Syndromic Surveillance, Diarrhoea, Acute Respiratory Infections, Malnutrition, Measles',\n",
       "       'VHCs refer the patient to the nearest health facility for further management.',\n",
       "       'VHCs, Patient Identification, Referral, Health Facility, Management',\n",
       "       'Unusual events or alerts of interest include outbreaks, epidemics, and other public health events.',\n",
       "       'Unusual Events, Alerts, Outbreaks, Epidemics, Public Health Events',\n",
       "       'Examples of members of Village Health Committees (VHAs) include community health workers, traditional birth attendants, and community volunteers.',\n",
       "       'Village Health Committees (vhcs), Members, Community Health Workers, Traditional Birth Attendants, Community Volunteers',\n",
       "       'Community health workers are identified based on their knowledge of the community, their willingness to serve, and their ability to work with the community.',\n",
       "       'Community Health Workers, Identification, Knowledge, Willingness, Ability, Community',\n",
       "       'CHWs play a crucial role in Community Based Surveillance by serving as the first line of defense in detecting and responding to public health threats. They are the eyes and ears of the community, providing early warning signs and enabling timely action to prevent outbreaks or contain existing ones.',\n",
       "       '',\n",
       "       'Reporting cases for VHCs involves contacting the nearest health facility or the nearest health facility with laboratory services.',\n",
       "       'Reporting Cases For VHCs, Health Facility, Laboratory Services',\n",
       "       'Community volunteers and HSAs are involved in the surveillance of diseases and events, including reporting and responding to alerts and outbreaks.',\n",
       "       'Community Volunteers, Health Surveillance Assistants (HSAs), Surveillance, Diseases, Events, Reporting, Alerts, Outbreaks',\n",
       "       '379',\n",
       "       'A probable case was defined as a person with a history of fever and a rash, with or without other symptoms, and a history of exposure to a suspected case or a known case.',\n",
       "       'Probable Case Definition, Fever, Rash, Exposure, Suspected Case, Known Case',\n",
       "       'TG Booklet 6',\n",
       "       'A confirmed case was defined as a laboratory-confirmed case of chikungunya.',\n",
       "       'Confirmed Case, Chikungunya, Laboratory-confirmed Case',\n",
       "       'The sensitivity of case definitions should be high in outbreak scenarios, with a focus on identifying all cases.',\n",
       "       'Sensitivity, Case Definitions, Outbreak Scenarios, Identifying Cases',\n",
       "       'One Health approach consists of a collaborative, multisectoral, and transdisciplinary effort to achieve optimal health outcomes for humans, animals, and the environment.',\n",
       "       'One Health Approach, Collaborative, Multisectoral, Transdisciplinary, Optimal Health Outcomes',\n",
       "       'An example of One Health surveillance is the monitoring of the spread of a zoonotic disease, such as rabies, in a community.',\n",
       "       'One Health Surveillance, Zoonotic Disease, Rabies, Community Monitoring',\n",
       "       'Case definitions are disseminated through the Ministry of Health and Population (MoHP) and the District Health Office (DHO).',\n",
       "       'Case Definitions Dissemination, Malawi, Ministry Of Health And Population (MoHP), District Health Office (DHO)',\n",
       "       'District procedures for surveillance and response are updated annually.',\n",
       "       'District Procedures, Surveillance, Response, Annual Updates',\n",
       "       'The recommended frequency for updating information about the catchment area, including health facilities, Points of Entry, and laboratories, is every 6 months.',\n",
       "       'Catchment Area Information, Health Facilities, Points Of Entry, Laboratories, Update Frequency, 6 Months',\n",
       "       'Risk mapping should cover all types of public health hazards, including natural hazards, biological hazards, chemical hazards, and radiological hazards.',\n",
       "       'Risk Mapping, Public Health Hazards, Natural Hazards, Biological Hazards, Chemical Hazards, Radiological Hazards',\n",
       "       '310',\n",
       "       'Weekly data analysis at facility or district level during an outbreak is used to monitor the progress of the outbreak, identify trends, and make informed decisions about the response.',\n",
       "       'Weekly Data Analysis, Facility, District, Outbreak, Progress, Trends, Response',\n",
       "       '399',\n",
       "       'The District Health Management Team (DHMT) is responsible for data verification at the district level in eIDSR.',\n",
       "       'Data Verification, District Level, eIDSR, District Health Management Team (DHMT)',\n",
       "       '760',\n",
       "       'Weekly reporting is important for monitoring disease trends because it provides a timely and regular update on the status of the disease, allowing for early detection of outbreaks and effective response.',\n",
       "       'Weekly Reporting, Disease Trends, Timely Update, Early Detection, Effective Response',\n",
       "       '791',\n",
       "       'The numbers for the weekly aggregates come from the weekly aggregate forms.',\n",
       "       'Weekly Aggregates, Weekly Aggregate Forms, Numbers, Source',\n",
       "       'Monthly: Number of cases, deaths, and deaths per 100,000 population. Quarterly: Number of cases, deaths, and deaths per 100,000 population.',\n",
       "       'Routine Summary Information, Monthly, Quarterly, Other Diseases, Cases, Deaths, Population',\n",
       "       '389',\n",
       "       'Additional diseases or events can be categorized for reporting frequency based on their severity, frequency of occurrence, and the need for timely response. Immediate reporting is required for diseases or events with high severity, such as cholera outbreaks, while weekly or monthly reporting is appropriate for diseases or events with moderate severity, such as measles outbreaks. Quarterly reporting is suitable for diseases or events with low severity, such as malnutrition.',\n",
       "       nan,\n",
       "       'Laboratory data should be organized and utilized in disease surveillance by establishing a laboratory network, ensuring quality assurance, and analyzing data to identify outbreaks and trends.',\n",
       "       'Laboratory Data Organization, Utilization, Disease Surveillance, Laboratory Network, Quality Assurance, Data Analysis, Outbreaks, Trends',\n",
       "       '379-385',\n",
       "       'Aggregated data includes information such as the number of cases, deaths, and recoveries, and is used to monitor the progress of the outbreak.',\n",
       "       'Aggregated Data, Nurse Responsibility, Case Counts, Deaths, Recoveries, Outbreak Monitoring',\n",
       "       'Summaries for diseases are calculated and recorded in health facilities equipped with computers by using the computerized reporting system.',\n",
       "       'Summaries, Diseases, Health Facilities, Computers, Reporting System',\n",
       "       'The register used in isolation units during outbreaks is the Register of Suspected Cases. It is important for IDSR summaries because it provides information on suspected cases, including their demographic details, symptoms, and outcomes.',\n",
       "       'Register, Isolation Units, Outbreaks, Suspected Cases, Demographic Details, Symptoms, Outcomes',\n",
       "       'Supervisory visits to reporting sites should emphasize the importance of timely reporting, the need for accurate data, and the role of the reporting site in the overall surveillance system.',\n",
       "       'Supervisory Visits, Reporting Sites, Timely Reporting, Accurate Data, Surveillance System',\n",
       "       'Clinicians should ensure that patient registers and case-based surveillance reporting forms are completed accurately and on time.',\n",
       "       'Clinicians, Supervisory Visits, Patient Registers, Case-based Surveillance Reporting Forms, Accuracy, Timeliness',\n",
       "       'Health workers should be trained on standard case definitions, and case definitions should be available in health facilities.',\n",
       "       'Health Workers Training, Standard Case Definitions, Health Facilities, Availability',\n",
       "       '311',\n",
       "       'Case-based data is crucial for understanding the magnitude and characteristics of public health events. Health staff should be prepared to collect, analyze, and interpret data to inform decision-making and response strategies.',\n",
       "       'Case-based Data, Public Health Events, Health Staff Preparation, Data Collection, Analysis, Interpretation, Decision-making, Response Strategies',\n",
       "       'The surveillance unit should have access to communication means such as telephone, fax, and email. Districts should notify the national level through the established communication channels.',\n",
       "       'Communication Means, Surveillance Unit, Districts, National Level, Notification, Established Channels',\n",
       "       'Stress the importance of data quality and surveillance during supervision.',\n",
       "       'Data Quality, Surveillance, Supervision, Importance, Emphasis',\n",
       "       'Factors affecting data quality in summaries include completeness, timeliness, accuracy, and consistency. Periodic checks should be conducted to ensure that the summaries are up-to-date, accurate, and reflect the current situation.',\n",
       "       'Data Quality Factors, Summaries, Completeness, Timeliness, Accuracy, Consistency, Periodic Checks',\n",
       "       'Regular data quality audits are recommended to ensure the accuracy and completeness of data at reporting sites.',\n",
       "       'Regular Data Quality Audits, Reporting Sites, Accuracy, Completeness, Data Integrity',\n",
       "       'CBS focal persons can be selected from the community, and after their selection, they should be trained on the use of the CBS tools and techniques.',\n",
       "       'CBS Focal Persons, Community, Training, Tools, Techniques', '710',\n",
       "       'Examples of community sources include community leaders, community health workers, and community volunteers.',\n",
       "       'Community Sources, District Staff, Community Leaders, Community Health Workers, Community Volunteers',\n",
       "       'Linkages between epidemiological and laboratory data can be strengthened by ensuring that laboratory data are routinely collected and analyzed, and that laboratory results are integrated into the overall surveillance system.',\n",
       "       'Linkages, Epidemiological, Laboratory Data, Strengthening, Routine Collection, Analysis, Integration',\n",
       "       '401',\n",
       "       'Submitting weekly summaries of processed samples during an outbreak is important for monitoring the progress of the outbreak and the effectiveness of the response. It provides information on the number of samples processed, the types of samples, and the results of the tests.',\n",
       "       'Weekly Summaries, Processed Samples, Outbreak Monitoring, Response Effectiveness, Sample Types, Test Results',\n",
       "       '411',\n",
       "       'Ensure that the Laboratory Focal Person is aware of the reporting requirements and that the laboratory is equipped to meet the needs of the reporting sites.',\n",
       "       'Supervision, Reporting Sites, Laboratory Focal Person, Reporting Requirements, Laboratory Needs',\n",
       "       'The One Health approach should be emphasized in the implementation of the One Health approach, highlighting the importance of a multisectoral approach to addressing health threats.',\n",
       "       'One Health Approach Emphasis, Multisectoral Approach, Health Threats',\n",
       "       'Key actors include the Ministry of Health, WHO, and other partners.',\n",
       "       'Key Actors, Collaboration, Reporting, Assessment, Public Health Risks, Ministry Of Health, WHO, Partners',\n",
       "       \"Patient confidentiality and privacy are maintained by using unique identifiers, such as a code number, to link information to the patient. This ensures that the patient's identity remains anonymous, protecting their privacy.\",\n",
       "       'Patient Confidentiality, Privacy, Unique Identifiers, Code Number, Anonymity',\n",
       "       'The use of names may be required during an outbreak of infectious diseases to identify and contact individuals who may have been exposed to the disease.',\n",
       "       'Names, Infectious Diseases, Outbreak, Exposure, Identification, Contact',\n",
       "       'The public health laboratory system complements syndromic disease surveillance by providing laboratory confirmation of suspected outbreaks, identifying the causative agent, and determining the extent of the outbreak.',\n",
       "       'Public Health Laboratory System, Syndromic Disease Surveillance, Laboratory Confirmation, Causative Agent, Outbreak Extent',\n",
       "       'Linkages, Epidemiological, Laboratory Data, Routine Collection, Analysis, Integration, Surveillance System',\n",
       "       'Important steps include recording the date of onset, date of death, and date of reporting.',\n",
       "       'Outbreak Steps, Line List Register, Date Of Onset, Date Of Death, Date Of Reporting',\n",
       "       'Collaboration with the Laboratory Focal Person can be ensured by discussing the importance of laboratory results in the response to the outbreak, emphasizing the need for timely and accurate results, and providing feedback on the quality of laboratory services.',\n",
       "       'Supervision, Laboratory Focal Person, Collaboration, Laboratory Results, Outbreak Response, Timeliness, Accuracy, Laboratory Services, Feedback',\n",
       "       'The Community Alert Reporting Form should be used to report suspected outbreaks or unusual events to the nearest health facility or district health office.',\n",
       "       'Community Alert Reporting Form, Suspected Outbreaks, Unusual Events, Health Facility, District Health Office',\n",
       "       'Case definitions can be made available by including them in the Community Alert Reporting form, ensuring that community members understand the definitions and can recognize the signs and symptoms of the disease.',\n",
       "       'Case Definitions, Community Alert Reporting Form, Disease Recognition, Signs, Symptoms',\n",
       "       'The form should be used to capture and report diseases and events at the community level, including the date of onset, date of reporting, and the number of cases and deaths.',\n",
       "       'Form Use, Community Level, Diseases, Events, Onset Date, Reporting Date, Cases, Deaths',\n",
       "       'Annex 2G captures information on laboratory-confirmed cases, including the number of cases, deaths, and specimens collected. It also includes details on the type of specimen, laboratory test performed, and results.',\n",
       "       'Annex 2G, IDSR Case-Based Laboratory Reporting Form, Laboratory-confirmed Cases, Specimens, Laboratory Tests, Results',\n",
       "       'The reporting structure for a TRUE EVENT in community alert and verification involves reporting to the nearest health facility, the District Health Office, and the District Health Surveillance Officer.',\n",
       "       'Reporting Structure, TRUE EVENT, Community Alert, Health Facility, District Health Office, District Health Surveillance Officer',\n",
       "       'Report Descriptions, IDSR Reports, Data Sharing Logbook',\n",
       "       'The checklist covers aspects such as the completeness of the case-based surveillance form, the timeliness of reporting, and the accuracy of data entry.',\n",
       "       'District Level IDSR Data Quality Audit Checklist, Data Collection, Suspected Cases, Health Facility, Completeness, Timeliness, Accuracy',\n",
       "       'The District Level IDSR Data Quality Audit Checklist covers aspects such as the completeness of reporting forms, the timeliness of reporting, the accuracy of reported data, and the completeness of reporting.',\n",
       "       'District Level IDSR Data Quality Audit Checklist, Reporting, Completeness, Timeliness, Accuracy, Completeness',\n",
       "       'The Maternal Death Reporting Form includes information on the deceased, the pregnancy, the delivery, and the cause of death.',\n",
       "       'Maternal Death Reporting Form, Information Types, Deceased, Pregnancy, Delivery, Cause Of Death',\n",
       "       '229',\n",
       "       'Module 3 focuses on the surveillance and response to priority diseases and conditions, including malnutrition, malaria, and HIV/AIDS.',\n",
       "       'Module 3, Surveillance, Response, Priority Diseases, Malnutrition, Malaria, HIV/AIDS',\n",
       "       '269',\n",
       "       'Each site that collects or receives data should have a logbook for recording data, and the logbook should be reviewed regularly to ensure that data are recorded accurately and completely.',\n",
       "       'Data Collection, Data Receiving Sites, Logbook, Data Recording, Accuracy, Completeness',\n",
       "       '711',\n",
       "       'Analyzing data involves summarizing, describing, and interpreting data to identify trends, patterns, and associations. It includes calculating attack rates, case fatality rates, and other indicators to assess the impact of the disease and the effectiveness of control measures.',\n",
       "       'Surveillance data flows from reporting sites to the central level through a hierarchical system of reporting. Data is collected at the community level, aggregated at the health facility level, and then reported to the district level. From there, it is sent to the regional level and finally to the national level.',\n",
       "       'Practices include recording data in a logbook, aggregating data manually or electronically, and ensuring that the data is accurate and complete.',\n",
       "       'Recording, Aggregating, Data, Logbook, Accuracy, Completeness',\n",
       "       'The routine flow of surveillance data is typically organized by the One Health approach, which involves the coordination of human, animal, and environmental health sectors.',\n",
       "       'Routine Flow, Surveillance Data, One Health Approach, Human, Animal, Environmental Health Sectors',\n",
       "       'Data is collected using a standardized form, and the eIDSR system is used to access data at the district level.',\n",
       "       'Data Collection, eIDSR System, District Level Access',\n",
       "       'Measures include ensuring that only authorized personnel have access to the data, using passwords and encryption, and implementing physical security measures such as locking cabinets and rooms.',\n",
       "       'Data Protection, Security Measures, Authorized Personnel, Passwords, Encryption, Physical Security',\n",
       "       'Reviewing data carefully after entry is important to ensure the accuracy of the information recorded. It involves checking for errors, inconsistencies, and missing data, and taking corrective actions if necessary.',\n",
       "       'Data Review, Accuracy, Errors, Inconsistencies, Missing Data, Corrective Actions',\n",
       "       'Analysis should include descriptive analysis, time series analysis, and spatial analysis.',\n",
       "       'Analysis Types, Descriptive Analysis, Time Series Analysis, Spatial Analysis',\n",
       "       'A histogram should include the number of cases by age and sex, and the number of deaths by age and sex.',\n",
       "       'Histogram, Case Based Forms, Line Lists, Age, Sex, Cases, Deaths',\n",
       "       'Histograms can be used to draw epidemic curves by plotting the number of cases on the y-axis and the time period on the x-axis.',\n",
       "       'Histograms, Epidemic Curves, Number Of Cases, Time Period',\n",
       "       'Yes, it is possible to determine the incubation period by analysing outbreak data coming from case based forms of line lists.',\n",
       "       'Incubation Period, Outbreak Data, Case Based Forms, Line Lists, Analysis',\n",
       "       'The information used to plot and describe clusters of cases on a map includes the location of cases, the number of cases, and the date of onset.',\n",
       "       'Information For Plotting And Describing Clusters Of Cases On A Map',\n",
       "       'Sources of infection can be identified by analyzing data by place, including the identification of potential sources of infection such as animals, food, water, and environmental factors.',\n",
       "       'Sources Of Infection, Data Analysis, Place, Animals, Food, Water, Environmental Factors',\n",
       "       'Factors such as population density, access to health facilities, and geographical barriers should be marked on a map during routine analysis of disease surveillance data.',\n",
       "       'Factors, Map, Routine Analysis, Disease Surveillance Data, Population Density, Health Facilities, Geographical Barriers',\n",
       "       'Recording location correctly is important because it helps in understanding the geographical distribution of the outbreak, identifying high-risk areas, and planning targeted interventions.',\n",
       "       'Recording Location, Geographical Distribution, High-risk Areas, Targeted Interventions',\n",
       "       'Variables such as age, sex, occupation, and place of residence should be compared in the analysis of cases by person.',\n",
       "       'Analysis Of Cases By Person, Variables, Age, Sex, Occupation, Place Of Residence',\n",
       "       'Identifying numerators and denominators is important in analyzing person data to understand the population at risk, the number of cases, and the proportion of cases in the population.',\n",
       "       'Person Data Analysis, Numerators, Denominators, Population At Risk, Cases, Proportion',\n",
       "       'Simple percentages can be used to compare the number of cases in different age groups, sexes, or geographical areas.',\n",
       "       'Simple Percentages, Comparison, Age Groups, Sexes, Geographical Areas',\n",
       "       'Yes, analyzing case fatality rate can provide insights into health-seeking behavior, as it reflects the proportion of cases that result in death.',\n",
       "       'Health-seeking Behavior, Case Fatality Rate, Insights, Proportion, Deaths',\n",
       "       'Comparison of incidence numbers across facilities can be used to identify areas with high incidence rates, which can help in targeting interventions and resources to those areas.',\n",
       "       'Comparison, Incidence Numbers, Facilities, High Incidence Rates, Targeting Interventions, Resources',\n",
       "       'The attack rate is calculated by dividing the number of cases by the population at risk and multiplying by 100,000.',\n",
       "       'Attack Rate Calculation, Cases, Population At Risk, Multiplication, 100,000',\n",
       "       'The epidemic threshold for malaria is determined by comparing the number of cases in a given period with the number of cases in the same period in previous years.',\n",
       "       'Malaria Epidemic Threshold, Comparison, Cases, Period, Previous Years',\n",
       "       '169',\n",
       "       'Periodic assessment of surveillance thresholds impacts their use by ensuring that they remain relevant and effective in detecting and responding to public health events.',\n",
       "       'Periodic Assessment, Surveillance Thresholds, Relevance, Effectiveness, Public Health Events',\n",
       "       '766',\n",
       "       'Information on suggested thresholds for taking action in specific diseases or conditions can be found in the TG Booklet 6 Section 11.',\n",
       "       'Information, Thresholds, Action, Specific Diseases, Conditions, TG Booklet 6, Section 11',\n",
       "       \"The suggested thresholds in the Malawi IDSR Technical Guidelines are determined based on the country's epidemiological situation, available resources, and the need for timely and effective response to public health events.\",\n",
       "       'Malawi IDSR Technical Guidelines, Thresholds, Epidemiological Situation, Resources, Response',\n",
       "       'The target audience for the suggested thresholds includes health workers, community volunteers, and community members.',\n",
       "       'Target Audience, Thresholds, Health Workers, Community Volunteers, Community Members',\n",
       "       \"If a district's analysis plan has been prepared, the next step is to conduct the analysis.\",\n",
       "       'District Analysis Plan, Analysis, Next Step',\n",
       "       'Correlating analysis findings with other data sources is important to validate the results and ensure that the information is accurate and reliable.',\n",
       "       'Correlation, Analysis Findings, Data Sources, Validation, Accuracy, Reliability',\n",
       "       'Factors such as the number of cases, the number of deaths, the case fatality rate, and the attack rate should be considered when interpreting results.',\n",
       "       'Interpreting Results, Factors, Cases, Deaths, Case Fatality Rate, Attack Rate',\n",
       "       'Factors to consider include the quality of surveillance data, the completeness of reporting, and the timeliness of reporting.',\n",
       "       'Factors, Disease Trends, Surveillance Data, Reporting Quality, Completeness, Timeliness',\n",
       "       'A backlog of cases may occur due to the time required for case-based surveillance to be implemented, resulting in a delay in reporting.',\n",
       "       'Backlog, Case-based Surveillance, Reporting Delay, Implementation Time',\n",
       "       'The quality of data can be assessed during interpretation by examining the completeness of the data, the timeliness of the data, and the accuracy of the data.',\n",
       "       'Data Quality Assessment, Interpretation, Completeness, Timeliness, Accuracy',\n",
       "       'Factors affecting the quality of the data include the completeness of the data, the timeliness of the data, the accuracy of the data, and the consistency of the data.',\n",
       "       'Data Quality Factors, Completeness, Timeliness, Accuracy, Consistency',\n",
       "       'The quality of data can be ensured during data collection by using standardized forms, ensuring completeness and accuracy of data, and conducting regular checks to identify and address issues.',\n",
       "       'Data Quality, Data Collection, Standardized Forms, Completeness, Accuracy, Regular Checks, Issue Identification, Issue Addressing',\n",
       "       'Ensure correct interpretation of outbreak data by comparing the number of cases with the number of deaths, and the number of cases with the number of deaths per 100,000 population.',\n",
       "       'Outbreak Data Interpretation, Cases, Deaths, Population, Percentage',\n",
       "       'Sources of chance include random events, such as the occurrence of a rare disease, or the occurrence of a disease in a population that is not at risk.',\n",
       "       'Sources Of Chance, Random Events, Rare Disease, Population At Risk',\n",
       "       'Surveillance findings should be summarized and shared regularly with the community, health facility, district, and national levels. The summary should include the number of cases, deaths, and risk factors, and should be shared with the community through community meetings, health facility bulletin boards, and other appropriate channels.',\n",
       "       '399-405',\n",
       "       'Information sharing is important in surveillance to ensure that all relevant stakeholders have access to the latest data and analyses, enabling them to make informed decisions and take appropriate actions.',\n",
       "       'Information Sharing, Surveillance, Data Access, Decision-making, Actions',\n",
       "       'Examples of information sharing during surveillance can be found in Section 10.1 of TG Booklet 6.',\n",
       "       'Information Sharing Examples, Surveillance, Section 10.1, TG Booklet 6',\n",
       "       'The routine analysis plan should include information on the type of data to be analyzed, the analysis methods to be used, the frequency of analysis, and the target audience for the analysis results.',\n",
       "       'Routine Analysis Plan, Surveillance Information, Data Type, Analysis Methods, Frequency, Target Audience',\n",
       "       'Completeness and timeliness of reporting can be calculated by dividing the number of reports received by the number of reports expected and multiplying by 100. It is important to calculate completeness and timeliness to assess the quality of reporting and identify areas for improvement.',\n",
       "       'Completeness, Timeliness, Reporting, Calculation, Importance',\n",
       "       'Data validation and quality analysis are essential in routine surveillance analysis to ensure the accuracy and reliability of the data. These activities help identify and address issues related to data quality, enabling the production of accurate and reliable reports for decision-making.',\n",
       "       'Data Validation, Quality Analysis, Routine Surveillance Analysis, Data Accuracy, Reliability, Decision-making',\n",
       "       'An example of a product from an analysis plan for routine surveillance information can be found in Annex 10B of TG Booklet 6 Section 10.',\n",
       "       'Analysis Plan, Routine Surveillance Information, Example, Annex 10B, TG Booklet 6, Section 10',\n",
       "       '219',\n",
       "       'Factors to consider include the number of cases, the number of deaths, the number of deaths per 100,000 population, and the number of deaths per 100,000 population per week.',\n",
       "       'Line Graph Factors, Cases, Deaths, Population, Weekly Deaths',\n",
       "       'To draw a chart manually, use a pencil and a ruler to draw a horizontal line across the page. Label the horizontal line with the dates of the outbreak. Draw a vertical line for each case, and label the vertical line with the date of onset.',\n",
       "       'Manual Chart Drawing, Horizontal Line, Dates, Vertical Line, Onset Date',\n",
       "       'Section 4 of the technical guidelines provides an overview of the content within Section 4, which includes information on the surveillance and epidemiology of Chikungunya.',\n",
       "       'Section 4 Overview, Chikungunya Surveillance, Epidemiology',\n",
       "       'Steps include establishing a response team, conducting a risk assessment, developing a response plan, mobilizing resources, and implementing the response plan.',\n",
       "       'Preparing For Response, Steps, Response Team, Risk Assessment, Response Plan, Resource Mobilization, Implementation',\n",
       "       '169-176',\n",
       "       'Annexes 1 and 2 provide information on the case definitions and laboratory criteria for suspected and confirmed cases, respectively.',\n",
       "       'Annexes 1 And 2, Case Definitions, Laboratory Criteria, Suspected And Confirmed Cases',\n",
       "       'The Third Edition of the IDSR technical guidelines is intended to be utilized by all levels of the health system, including community, health facility, district, and national levels.',\n",
       "       'Third Edition, IDSR Technical Guidelines, Utilization, Health System Levels, Community, Health Facility, District, National',\n",
       "       '10',\n",
       "       'An outbreak is defined as an occurrence of events in excess of normal expectancy.',\n",
       "       'Outbreak Definition, Section 4.0, Excess Of Normal Expectancy',\n",
       "       'The purpose of an outbreak investigation is to determine the cause of the outbreak, the extent of the outbreak, and the risk of further spread.',\n",
       "       'Outbreak Investigation Purpose, Cause Determination, Extent, Spread Risk',\n",
       "       '129',\n",
       "       'An outbreak is defined as an occurrence of events in excess of the expected number of cases in a given period.',\n",
       "       'Outbreak Definition, Excess Cases, Expected Number, Period',\n",
       "       'The purposes of an outbreak investigation include determining the cause of the outbreak, identifying the source of infection, and implementing control measures.',\n",
       "       'Outbreak Investigation Purposes, Cause Determination, Source Identification, Control Measures',\n",
       "       'After verification, the next steps depend on the type of event. For confirmed outbreaks, immediate response activities should be initiated, and for suspected outbreaks, further investigation and verification should be conducted.',\n",
       "       'Verification, Outbreaks, Events, Response Activities, Investigation, Verification',\n",
       "       'The District Public Health Emergency Rapid Response Team (PHERRT) is significant because it is responsible for responding to public health emergencies and disasters at the district level.',\n",
       "       'District Public Health Emergency Rapid Response Team (PHERRT) Significance, Responsibilities, District Level',\n",
       "       'Section 4.1.1 recommends preparing for an outbreak investigation by establishing a team, identifying the outbreak site, and collecting information about the outbreak.',\n",
       "       'Section 4.1.1, Outbreak Investigation Preparation, Team Establishment, Outbreak Site Identification, Outbreak Information Collection',\n",
       "       '201',\n",
       "       'The District PHERRT serves as the first line of response to public health emergencies, providing rapid assessment, response, and control measures.',\n",
       "       'District PHERRT Functions, Public Health Emergencies, Rapid Assessment, Response, Control Measures',\n",
       "       'The key elements to include in the terms of reference for the PHERRT are the objectives, scope, and responsibilities of the committee.',\n",
       "       'PHERRT Terms Of Reference, Objectives, Scope, Responsibilities',\n",
       "       'Having a database of trained public health workers is suggested to ensure that the right people are available for the right tasks during an outbreak.',\n",
       "       'Database, Trained Public Health Workers, Right People, Right Tasks, Outbreak',\n",
       "       '211',\n",
       "       'Developing terms of reference for the PHERRT is significant because it defines the scope, objectives, and responsibilities of the committee, ensuring a clear understanding of its role in the response to public health emergencies and risk events.',\n",
       "       'Terms Of Reference, PHERRT, Scope, Objectives, Responsibilities, Committee, Response, Public Health Emergencies, Risk Events',\n",
       "       'The national level provides support by providing technical guidance, coordinating the response, and mobilizing resources.',\n",
       "       'National Level Support, District-level Outbreak Investigations, Technical Guidance, Response Coordination, Resource Mobilization',\n",
       "       'Section 4.1.7 advises arranging transportation and other logistics for an outbreak investigation, including the use of a vehicle with a driver, fuel, and a GPS device.',\n",
       "       'Section 4.1.7, Transportation, Logistics, Outbreak Investigation, Vehicle, Driver, Fuel, GPS Device',\n",
       "       '249',\n",
       "       'Section 4.1.8 recommends gathering supplies for collecting laboratory specimens, including sterile containers, needles, syringes, and swabs.',\n",
       "       'Section 4.1.8, Laboratory Specimens, Supplies, Sterile Containers, Needles, Syringes, Swabs',\n",
       "       '261',\n",
       "       'Reported outbreaks, public health events, and alerts should be recorded to monitor the situation, identify trends, and take appropriate action. Recording provides a historical record of the event, enabling future analysis and learning.',\n",
       "       'Reported Outbreaks, Public Health Events, Alerts, Recording, Monitoring, Trends, Action, Historical Record, Analysis, Learning',\n",
       "       'Paragraph 253 recommends establishing communication lines between the investigation team and the community, health facilities, and other relevant stakeholders to ensure effective communication during the investigation.',\n",
       "       'Communication Lines, Investigation Team, Community, Health Facilities, Relevant Stakeholders',\n",
       "       '253',\n",
       "       'Observing appropriate authorizations during an investigation is important to ensure that the investigation is conducted within the legal framework and that the rights of individuals are respected.',\n",
       "       'Authorizations, Investigation, Legal Framework, Rights, Individuals',\n",
       "       'An outbreak or event can be verified and confirmed by conducting a case-based investigation, reviewing laboratory results, and analyzing epidemiological data.',\n",
       "       'Outbreak Verification, Event Confirmation, Case-based Investigation, Laboratory Results, Epidemiological Data Analysis',\n",
       "       'Examine the signs and symptoms of cases in an outbreak by reviewing the case definitions, laboratory results, and epidemiological data.',\n",
       "       'Signs, Symptoms, Case Definitions, Laboratory Results, Epidemiological Data',\n",
       "       \"Questions should include the patient's age, sex, occupation, and contact with animals or other people.\",\n",
       "       'Patient Background, Contacts, Age, Sex, Occupation, Animals, People',\n",
       "       'Precautions include using personal protective equipment, avoiding contact with blood and body fluids, and following standard infection control practices.',\n",
       "       'Verification, Confirmation, Precautions, Personal Protective Equipment, Blood, Body Fluids, Infection Control',\n",
       "       'Verification and confirmation of an outbreak or event can be initiated by contacting the nearest health facility or district health office, or by contacting the nearest health facility or district health office.',\n",
       "       'Verification, Confirmation, Outbreak, Event, Health Facility, District Health Office',\n",
       "       'Information regarding vaccines includes the vaccine name, manufacturer, lot number, and date of administration.',\n",
       "       'Suspected AEFI Information, Vaccines, Name, Manufacturer, Lot Number, Date Of Administration',\n",
       "       '199',\n",
       "       'Asking about recent food consumption is important during a foodborne outbreak investigation to identify the source of the outbreak and take appropriate measures to control the spread of the disease.',\n",
       "       'Foodborne Outbreak Investigation, Recent Food Consumption, Source Identification, Disease Control',\n",
       "       'The recommended approach is to use PPE during the verification and confirmation process, including gloves, gowns, masks, and eye protection.',\n",
       "       'PPE Approach, Verification, Confirmation, Gloves, Gowns, Masks, Eye Protection',\n",
       "       'Defining a case is crucial for outbreak investigation, as it helps in identifying and tracking the spread of the disease. It involves specifying the criteria for determining whether an individual is affected by the outbreak, enabling effective case management and response.',\n",
       "       'Case Definition Significance, Outbreak Investigation, Disease Identification, Spread Tracking, Case Management, Response',\n",
       "       'Standard case definitions for most IDSR priority diseases can be found in the TG Booklet 6 Section 10.',\n",
       "       'Standard Case Definitions, IDSR Priority Diseases, TG Booklet 6, Section 10',\n",
       "       'Establishing a case definition involves identifying the key features of the disease, such as symptoms, signs, and laboratory findings. This information is crucial for case-based surveillance and response.',\n",
       "       'New Disease, Case Definition, Key Features, Symptoms, Signs, Laboratory Findings',\n",
       "       'Common elements of a case definition include the name of the disease, the case definition, the diagnostic criteria, the laboratory tests, the specimen collection, and the specimen handling.',\n",
       "       'Case Definition Elements, Disease Name, Case Definition, Diagnostic Criteria, Laboratory Tests, Specimen Collection, Specimen Handling',\n",
       "       '306',\n",
       "       'Searching for additional cases is important to ensure that all cases are identified and treated, preventing further spread of the disease.',\n",
       "       'Additional Cases, Confirmed Cases, Treatment, Disease Spread Prevention',\n",
       "       'Guidelines for managing cases in isolation during an outbreak include the use of standard precautions, infection control measures, and the provision of personal protective equipment (PPE).',\n",
       "       'Guidelines, Isolation, Outbreak, Standard Precautions, Infection Control, Personal Protective Equipment',\n",
       "       'The search should be conducted in the community where the index case was identified.',\n",
       "       'Search, Contact Persons, Suspected Deaths, Community, Index Case',\n",
       "       'Communication methods include community meetings, radio announcements, and partner meetings.',\n",
       "       'Communication Methods, Community Meetings, Radio Announcements, Partner Meetings',\n",
       "       '379, 380, 381',\n",
       "       'Recording information on a line list register for each new case during an outbreak investigation is important to monitor the progress of the outbreak, identify trends, and make informed decisions about the response.',\n",
       "       'Line List Register, New Case, Outbreak Investigation, Progress Monitoring, Trends, Response Decisions',\n",
       "       'The case based surveillance reporting form should record information such as the case number, date of onset, date of reporting, age, sex, address, occupation, symptoms, date of death, and cause of death.',\n",
       "       'Detailed forms for investigating specific diseases can be found in the TG Booklet 6 Section 11.',\n",
       "       'Detailed Forms, Specific Diseases, TG Booklet 6, Section 11',\n",
       "       'The line list register records information about cases, including demographic details, symptoms, and outcomes. The sample line list register focuses on laboratory results, including specimen type, collection date, and test results.',\n",
       "       'Line List Register Vs. Sample Line List Register, Case Information, Laboratory Results',\n",
       "       'Calculating case fatality rates during an outbreak situation is important to assess the severity of the outbreak and the effectiveness of the response.',\n",
       "       'Calculating Case Fatality Rates, Outbreak Situation, Severity Assessment, Response Effectiveness',\n",
       "       'The shape of an epidemic curve can offer insights into the outbreak, indicating the direction of the outbreak, the speed of transmission, and the potential for control measures.',\n",
       "       'Epidemic Curve, Insights, Outbreak, Direction, Transmission, Control Measures',\n",
       "       'Possible study designs include case-control studies, cohort studies, and cross-sectional studies.',\n",
       "       'Analytic Studies, Hypothesis Testing, Study Designs, Case-control Studies, Cohort Studies, Cross-sectional Studies',\n",
       "       'Epidemic curves can be linear, exponential, or logarithmic, with different interpretations. Linear curves indicate a steady increase in cases, exponential curves indicate rapid growth, and logarithmic curves indicate a slowing of the epidemic.',\n",
       "       'Epidemic Curve Shapes, Interpretations, Linear, Exponential, Logarithmic',\n",
       "       'Time analysis focuses on the timing of cases, place analysis examines the geographical distribution of cases, and person analysis investigates the characteristics of cases.',\n",
       "       'Time, Place, Person Analyses, Outbreak Investigation, Case Timing, Geographical Distribution, Case Characteristics',\n",
       "       'Comparing age groups is important to understand the impact of the outbreak on different age groups. This information can be used to tailor interventions based on the specific needs and vulnerabilities of each age group.',\n",
       "       'Age Group Comparison, Outbreak Impact, Interventions, Vulnerabilities',\n",
       "       'Case-control studies and cohort studies are suitable for testing hypotheses. Case-control studies are useful for identifying risk factors, while cohort studies are useful for determining the incidence of a disease in a population.',\n",
       "       'Outbreak Investigations, Study Designs, Case-control Studies, Cohort Studies, Hypothesis Testing, Risk Factors, Disease Incidence',\n",
       "       'Refining hypotheses based on analytic study results is important in outbreak investigations to ensure that the hypotheses are accurate and relevant to the situation.',\n",
       "       'Refining Hypotheses, Analytic Study Results, Outbreak Investigations, Accuracy, Relevance',\n",
       "       'Disseminating all reports, including preliminary and interim, is important to ensure timely and effective response to the outbreak. It is crucial to share information with the community, health workers, and other stakeholders to raise awareness, mobilize resources, and implement control measures.',\n",
       "       'A SitRep focuses on providing a summary of the situation, while a detailed outbreak investigation report delves into the specifics of the outbreak, including its causes, risk factors, and prevention measures. The audience for a SitRep is typically broader, including stakeholders at the national and international levels, while the audience for a detailed outbreak investigation report is more specific, such as the affected community and health authorities.',\n",
       "       '389, 390',\n",
       "       'A transmission tree illustrates the spread of the disease from a single case, while a spot map shows the geographical distribution of cases. Both contribute to understanding disease spread, with the transmission tree focusing on the spread from a single case and the spot map providing a broader view of the geographical distribution of cases.',\n",
       "       'Transmission Tree Vs. Spot Map, Disease Spread, Single Case, Geographical Distribution',\n",
       "       '399, 400',\n",
       "       'Recommended channels include the District Health Officer, District Surveillance Focal Person, and the National Surveillance Focal Person. These channels are important for timely and effective communication of outbreak findings, ensuring a coordinated response.',\n",
       "       'Communication Channels, Outbreak Findings, District Health Officer, District Surveillance Focal Person, National Surveillance Focal Person',\n",
       "       'Stakeholders can access a suggested outline for writing an investigation report in Section 10.2 of TG Booklet 6. Having a structured outline is important to ensure that the report is comprehensive, organized, and easy to understand.',\n",
       "       'Stakeholders, Investigation Report, Structured Outline, Comprehensive, Organized, Understandable',\n",
       "       'Control measures should be implemented concurrently with other investigation steps to prevent further spread of the outbreak.',\n",
       "       'Control Measures, Concurrent Implementation, Investigation Steps, Outbreak Prevention, Spread Prevention',\n",
       "       'Implementing control measures at the first available point in the investigation process is significant because it helps to prevent the spread of the disease and protects the community from further infections.',\n",
       "       'Control Measures, First Available Point, Investigation Process, Disease Spread Prevention, Community Protection',\n",
       "       'Non-specific control measures are general measures that apply to all outbreaks, such as improving surveillance, strengthening laboratory capacity, and enhancing infection prevention and control. Specific control measures are tailored to the specific outbreak, including case management, contact tracing, and risk communication.',\n",
       "       'Non-specific Control Measures, Specific Control Measures, Outbreak Settings, General Measures, Tailored Measures',\n",
       "       \"The designated investigation team should address questions related to the event's severity, geographical spread, and potential for international spread. They should consider the event's impact on public health, the availability of resources, and the potential for the event to become a PHEIC.\",\n",
       "       'The national level should maintain contact with the district for daily updates during an epidemic. This is important to ensure timely and accurate information sharing, enabling effective response and control measures.',\n",
       "       'National Level Contact, District Updates, Epidemic, Information Sharing, Response, Control Measures',\n",
       "       \"Factors such as the source of the outbreak, the mode of transmission, the population at risk, and the geographical distribution of the outbreak should be evaluated. Regular risk assessment is crucial to monitor the outbreak's progression, identify new cases, and implement effective control measures.\",\n",
       "       '369, 370',\n",
       "       'National-level responsibilities include coordinating the response, providing technical guidance, and mobilizing resources. District-level responsibilities include implementing control measures, conducting surveillance, and reporting data. Coordination is essential to ensure a unified response, avoid duplication, and maximize the effectiveness of the outbreak response.',\n",
       "       'Parallel reporting can lead to confusion, duplication of efforts, and ineffective management of the outbreak. It is crucial to avoid parallel reporting to ensure a coordinated response and effective management of the outbreak.',\n",
       "       'Parallel Reporting, Outbreak Management, Confusion, Duplication, Coordinated Response',\n",
       "       'Control measures should be implemented at the community level, emphasizing the engagement of multiple sectors to ensure a comprehensive response.',\n",
       "       'Control Measures, Community Level, Multiple Sectors, Comprehensive Response',\n",
       "       'Potential impacts include the risk of harm to participants, the community, and the research team. Conducting research in a scientifically and ethically sound manner is essential to minimize these risks and ensure the integrity of the research.',\n",
       "       'Biomedical Research Impacts, Outbreak, Scientifically And Ethically Sound, Participants, Community, Research Team',\n",
       "       'Parallel reporting leads to confusion and inefficiency, while coordinated reporting enhances collaboration and information sharing, resulting in effective outbreak management.',\n",
       "       'Parallel Reporting Vs. Coordinated Reporting, Outbreak Management, Confusion, Inefficiency, Collaboration, Information Sharing',\n",
       "       'The District log should record information about suspected outbreaks and alerts, including the date of onset, date of reporting, suspected cause, number of cases, number of deaths, and the status of the investigation.',\n",
       "       'District Log, Suspected Outbreaks, Alerts, Information, Date Of Onset, Date Of Reporting, Suspected Cause, Number Of Cases, Number Of Deaths, Investigation Status',\n",
       "       'The District log of suspected outbreaks and alerts is important during an outbreak investigation because it provides a record of the suspected outbreaks and alerts reported to the District, including the date, location, and type of event. This information is crucial for understanding the scope and severity of the outbreak, identifying potential risk factors, and implementing effective control measures.',\n",
       "       'The checklist includes specimens such as blood, stool, and cerebrospinal fluid. These specimens are important for confirming the cause of the outbreak and guiding appropriate treatment and control measures.',\n",
       "       'Laboratory Supplies Checklist, Specimens, Outbreak Investigation, Confirmation, Treatment, Control Measures',\n",
       "       '461',\n",
       "       'The laboratory supplies checklist contributes to the safety of healthcare workers involved in an outbreak investigation by ensuring that appropriate personal protective equipment (PPE) is available, reducing the risk of exposure to infectious agents.',\n",
       "       'Laboratory Supplies Checklist, Safety, Healthcare Workers, Outbreak Investigation, Personal Protective Equipment (ppe), Infectious Agents',\n",
       "       'Considerations include the type of specimen, packaging, and transport requirements. These are important for ensuring the safe and effective handling of samples during transportation.',\n",
       "       'Packaging, Transporting, Samples, Laboratory Supplies Checklist, Specimen Type, Packaging, Transport Requirements',\n",
       "       'The laboratory supplies checklist ensures that the necessary equipment and materials are available for collecting and handling specimens, including those for viral hemorrhagic fevers, bacterial meningitis, and other diseases.',\n",
       "       'Laboratory Supplies Checklist, Specimen Collection, Viral Hemorrhagic Fevers, Bacterial Meningitis, Disease-specific Specimens',\n",
       "       'Factors to consider include the type of specimen, the type of packaging, the type of transport, the duration of transport, and the temperature requirements during transport.',\n",
       "       'Packaging, Transport, Specimen Type, Packaging Type, Transport Type, Duration, Temperature Requirements',\n",
       "       'The District log of suspected outbreaks and alerts is designed to include information about response activities and steps taken during an outbreak to provide a comprehensive record of the outbreak response.',\n",
       "       'District Log, Suspected Outbreaks, Alerts, Response Activities, Steps, Comprehensive Record',\n",
       "       'The District log of suspected outbreaks and alerts recommends recording information about the suspected outbreak or unexplained event, including the date of onset, date of reporting, location, number of cases, number of deaths, and the suspected cause.',\n",
       "       'The health facility registers should ideally include information such as the date of onset, date of admission, date of death, date of discharge, and the outcome of the case.',\n",
       "       'Health Facility Registers, Suspected Cases, Investigation, Date Of Onset, Date Of Admission, Date Of Death, Date Of Discharge, Outcome',\n",
       "       'The health facility supervisor reviews the register for suspected outbreaks and alerts, while the health facility staff completes the District log.',\n",
       "       'Health Facility Supervisor, Register Review, Health Facility Staff, District Log, Suspected Outbreaks, Alerts',\n",
       "       '379, 380',\n",
       "       'It is emphasized during a register review that the activity is an information-gathering exercise and not a review of health worker performance to ensure that the focus remains on collecting data and not on evaluating the performance of health workers.',\n",
       "       'Register Review, Information-gathering Exercise, Health Worker Performance, Data Collection, Performance Evaluation',\n",
       "       'National level responsibilities include coordinating the response, providing technical support, and ensuring the availability of resources. District or facility level responsibilities include implementing the response, collecting and analyzing data, and reporting to the national level.',\n",
       "       'National Level Responsibilities, District Or Facility Level Responsibilities, Outbreak Response, Coordination, Technical Support, Resource Availability, Implementation, Data Collection, Analysis, Reporting',\n",
       "       'Triple packaging of samples during an outbreak is used to ensure the safety of the samples during transportation and storage. It involves placing the sample in a primary container, sealing it with a secondary container, and then placing the secondary container in a tertiary container.',\n",
       "       'Triple Packaging, Sample Safety, Transportation, Storage, Outbreak',\n",
       "       'The sample line list should record the following information: sample number, date of collection, date of receipt, specimen type, laboratory test results, and comments.',\n",
       "       'Sample Line List, Information, Sample Number, Date Of Collection, Date Of Receipt, Specimen Type, Laboratory Test Results, Comments',\n",
       "       'The sample line list is used to record information about the samples collected during an outbreak investigation.',\n",
       "       'Sample Line List, Outbreak Investigation, Sample Information',\n",
       "       'Contact Tracing Form, Types Of Contacts, Direct Contacts, Indirect Contacts',\n",
       "       '366',\n",
       "       'The steps involved in conducting a register review include identifying the register, reviewing the register, and recording the results.',\n",
       "       'Register Review Steps, Identification, Review, Recording',\n",
       "       \"Contacts are defined as persons who have had close contact with a confirmed case. The criteria include sharing a household with the case, having direct contact with the case, or having contact with the case's body fluids.\",\n",
       "       'Contact Tracing Form, Criteria, Confirmed Case, Household, Direct Contact, Body Fluids',\n",
       "       'A register review is conducted in health facilities to identify cases and deaths, assess the quality of data, and determine the effectiveness of surveillance activities.',\n",
       "       'Register Review, Health Facilities, Case Identification, Data Quality, Surveillance Effectiveness',\n",
       "       'Contacts should be recorded in the contact tracing form, including the name, age, sex, address, and phone number of the contact.',\n",
       "       'Contacts, Contact Tracing Form, Name, Age, Sex, Address, Phone Number',\n",
       "       'A register review is conducted to identify cases and deaths, and to assess the quality of case-based surveillance. The purpose may vary depending on the type of health facility, but the overall goal is to improve the quality of surveillance and response to public health events.',\n",
       "       'Register Review, Health Facilities, Case Identification, Deaths, Surveillance Quality, Response',\n",
       "       'The sample line list contains information about suspected cases, including their names, addresses, and symptoms. Other outbreak response documents, such as the case-based surveillance form, may include additional details about the case, such as the date of onset, date of admission, and laboratory results.',\n",
       "       'Recording the vaccination status in the sample line list is significant because it provides information on the vaccination status of the population, which is crucial for understanding the impact of the disease and the effectiveness of the vaccination program.',\n",
       "       'Vaccination Status, Sample Line List, Population, Disease Impact, Vaccination Program Effectiveness',\n",
       "       'An analytical study involves analyzing data to identify patterns, trends, and associations. It helps in understanding the outbreak, its causes, and the factors contributing to its spread.',\n",
       "       'Analytical Study, Outbreak Investigations, Data Analysis, Patterns, Trends, Associations, Understanding, Causes, Spread Factors',\n",
       "       'Yes, an example of a case that could trigger an outbreak of respiratory illness is a patient with a history of travel to an area with a known outbreak of respiratory illness.',\n",
       "       'Case Example, Respiratory Illness, Travel History, Outbreak Trigger',\n",
       "       \"The 25-year-old university student's symptoms, including coughing, fever, and shortness of breath, contribute to the onset of a respiratory illness outbreak by potentially spreading the illness to others, especially in a university setting where students interact frequently.\",\n",
       "       'The interactions between the first case and healthcare workers might influence the development and spread of a respiratory illness by providing opportunities for the virus to spread from the patient to the healthcare workers, potentially leading to further transmission within the healthcare facility and the community.',\n",
       "       'Interactions, First Case, Healthcare Workers, Respiratory Illness, Development, Spread, Opportunities, Transmission, Healthcare Facility, Community',\n",
       "       \"The experience of the 65-year-old male doctor (case 4) during the outbreak provides insights into the potential range of severity and recovery strategies for respiratory illnesses. The doctor's case highlights the importance of prompt diagnosis and treatment, as well as the need for effective surveillance and response mechanisms.\",\n",
       "       '226',\n",
       "       'The cases in the second phase of the outbreak exhibit common characteristics, including the presence of respiratory illness, fever, and cough. These factors contribute to the spread of respiratory illness during this period.',\n",
       "       'Second Phase, Respiratory Illness, Fever, Cough, Spread Factors',\n",
       "       'Yes, Page 106 of TG Booklet 6 Section 11',\n",
       "       'TG, Acute Haemorrhagic Fever Syndrome, Case Definitions, Page 106, Booklet 6, Section 11',\n",
       "       'Yes, Page 106 of TG Booklet 6 Section 10',\n",
       "       'TG, Adverse Events Following Immunization (AEFI), Page 106, Booklet 6, Section 10',\n",
       "       'Yes, Page 110 of TG Booklet 6 Section 11',\n",
       "       'TG, Anthrax (human), Case Definitions, Page 110, Booklet 6, Section 11',\n",
       "       'TG, Buruli Ulcer (BU), Mycobacterium Ulcerans Disease, Case Definitions, Page 110, Booklet 6, Section 11',\n",
       "       'TG, Chikungunya, Case Definitions, Page 110, Booklet 6, Section 11',\n",
       "       'Yes, Page 116 of TG Booklet 6 Section 11',\n",
       "       'TG, Cholera, Case Definitions, Page 116, Booklet 6, Section 11',\n",
       "       'TG, Dengue Fever, Case Definitions, Page 116, Booklet 6, Section 11',\n",
       "       'TG, Diarrhoea With Blood (shigella), Case Definitions, Page 106, Booklet 6, Section 11',\n",
       "       'TG, Diarrhoea, Dehydration, Children, Case Definitions, Page 106, Booklet 6, Section 11',\n",
       "       'TG, Ebola, Marburg, Case Definitions, Page 106, Booklet 6, Section 11',\n",
       "       'TG, Epilepsy, Case Definitions, Page 106, Booklet 6, Section 11',\n",
       "       'TG, Hypertension, Case Definitions, Page 106, Booklet 6, Section 10',\n",
       "       'TG, Injuries, Road Traffic Accidents, Case Definitions, Page 106, Booklet 6, Section 11',\n",
       "       'TG, Lassa, Crimean-congo Haemorrhagic Fevers, Case Definitions, Page 110, Booklet 6, Section 11',\n",
       "       'TG, Malaria, Case Definitions, Page 106, Booklet 6, Section 10',\n",
       "       'TG, Monkeypox, Case Definitions, Page 116, Booklet 6, Section 11',\n",
       "       'TG, Bubonic Plague, Case Definitions, Page 106, Booklet 6, Section 11',\n",
       "       'Yes, Page 146 of TG Booklet 6 Section 11',\n",
       "       'TG, Pneumonic Plague, Case Definitions, Page 146, Booklet 6, Section 11',\n",
       "       'TG, Poliomyelitis, Acute Flaccid Paralysis, Case Definitions, Page 106, Booklet 6, Section 11',\n",
       "       'TG, Rabies (human), Case Definitions, Page 116, Booklet 6, Section 11',\n",
       "       'TG, Case Definitions, Severe Acute Respiratory Infections (SARIs), Page 106, Booklet 6, Section 10',\n",
       "       'TG, Case Definitions, Severe Acute Respiratory Syndrome (sars), Page 106, Booklet 6, Section 11',\n",
       "       'TG, Severe Pneumonia, Children Under 5, Page 106, Booklet 6, Section 11'],\n",
       "      dtype=object)"
      ]
     },
     "execution_count": 67,
     "metadata": {},
     "output_type": "execute_result"
    }
   ],
   "source": [
    "submission2_df['Target'].unique()"
   ]
  },
  {
   "cell_type": "code",
   "execution_count": 66,
   "metadata": {},
   "outputs": [],
   "source": [
    "# Replace all 2022_Value with \"I don't know\" with 0.0\n",
    "submission2_df['Target'] = submission2_df['Target'].replace('[]', '')"
   ]
  },
  {
   "cell_type": "code",
   "execution_count": 68,
   "metadata": {},
   "outputs": [
    {
     "name": "stderr",
     "output_type": "stream",
     "text": [
      "/tmp/ipykernel_142883/706377534.py:4: FutureWarning: The frame.append method is deprecated and will be removed from pandas in a future version. Use pandas.concat instead.\n",
      "  submission2_df = submission2_df.append(row, ignore_index=True)\n"
     ]
    }
   ],
   "source": [
    "# Compare sample_submission_df and submission2_df and add rows that are in sample_submission_df but not in submission2_df to submission2_df\n",
    "for index, row in sample_submission_df.iterrows():\n",
    "    if row['ID'] not in submission2_df['ID'].values:\n",
    "        submission2_df = submission2_df.append(row, ignore_index=True)"
   ]
  },
  {
   "cell_type": "code",
   "execution_count": 69,
   "metadata": {},
   "outputs": [
    {
     "data": {
      "text/plain": [
       "(1996, 2)"
      ]
     },
     "execution_count": 69,
     "metadata": {},
     "output_type": "execute_result"
    }
   ],
   "source": [
    "submission2_df.shape"
   ]
  },
  {
   "cell_type": "code",
   "execution_count": 70,
   "metadata": {},
   "outputs": [],
   "source": [
    "submission2_df.to_csv('submission2_refined.csv', index=False)"
   ]
  },
  {
   "cell_type": "code",
   "execution_count": 73,
   "metadata": {},
   "outputs": [
    {
     "data": {
      "text/html": [
       "<div>\n",
       "<style scoped>\n",
       "    .dataframe tbody tr th:only-of-type {\n",
       "        vertical-align: middle;\n",
       "    }\n",
       "\n",
       "    .dataframe tbody tr th {\n",
       "        vertical-align: top;\n",
       "    }\n",
       "\n",
       "    .dataframe thead th {\n",
       "        text-align: right;\n",
       "    }\n",
       "</style>\n",
       "<table border=\"1\" class=\"dataframe\">\n",
       "  <thead>\n",
       "    <tr style=\"text-align: right;\">\n",
       "      <th></th>\n",
       "      <th>ID</th>\n",
       "      <th>Target</th>\n",
       "    </tr>\n",
       "  </thead>\n",
       "  <tbody>\n",
       "  </tbody>\n",
       "</table>\n",
       "</div>"
      ],
      "text/plain": [
       "Empty DataFrame\n",
       "Columns: [ID, Target]\n",
       "Index: []"
      ]
     },
     "execution_count": 73,
     "metadata": {},
     "output_type": "execute_result"
    }
   ],
   "source": [
    "# Return entries whose Target values are ''\n",
    "submission2_df[submission2_df['Target'] == '']"
   ]
  },
  {
   "cell_type": "code",
   "execution_count": 72,
   "metadata": {},
   "outputs": [],
   "source": [
    "# Replace the Target values '' with 'keywords'\n",
    "submission2_df.loc[submission2_df['Target'] == '', 'Target'] = 'keywords'"
   ]
  },
  {
   "cell_type": "code",
   "execution_count": 74,
   "metadata": {},
   "outputs": [],
   "source": [
    "submission2_df.to_csv('submission3_refined.csv', index=False)"
   ]
  },
  {
   "cell_type": "code",
   "execution_count": 75,
   "metadata": {},
   "outputs": [
    {
     "data": {
      "text/html": [
       "<div>\n",
       "<style scoped>\n",
       "    .dataframe tbody tr th:only-of-type {\n",
       "        vertical-align: middle;\n",
       "    }\n",
       "\n",
       "    .dataframe tbody tr th {\n",
       "        vertical-align: top;\n",
       "    }\n",
       "\n",
       "    .dataframe thead th {\n",
       "        text-align: right;\n",
       "    }\n",
       "</style>\n",
       "<table border=\"1\" class=\"dataframe\">\n",
       "  <thead>\n",
       "    <tr style=\"text-align: right;\">\n",
       "      <th></th>\n",
       "      <th>ID</th>\n",
       "      <th>Target</th>\n",
       "    </tr>\n",
       "  </thead>\n",
       "  <tbody>\n",
       "    <tr>\n",
       "      <th>114</th>\n",
       "      <td>Q66_paragraph(s)_number</td>\n",
       "      <td>NaN</td>\n",
       "    </tr>\n",
       "  </tbody>\n",
       "</table>\n",
       "</div>"
      ],
      "text/plain": [
       "                          ID Target\n",
       "114  Q66_paragraph(s)_number    NaN"
      ]
     },
     "execution_count": 75,
     "metadata": {},
     "output_type": "execute_result"
    }
   ],
   "source": [
    "# Check for row with ID Q66_paragraph(s)_number\n",
    "submission2_df[submission2_df['ID'] == 'Q66_paragraph(s)_number']"
   ]
  },
  {
   "cell_type": "code",
   "execution_count": 76,
   "metadata": {},
   "outputs": [],
   "source": [
    "# Set its value to 169-176\n",
    "submission2_df.loc[submission2_df['ID'] == 'Q66_paragraph(s)_number', 'Target'] = '169-176'"
   ]
  },
  {
   "cell_type": "code",
   "execution_count": 79,
   "metadata": {},
   "outputs": [
    {
     "data": {
      "text/html": [
       "<div>\n",
       "<style scoped>\n",
       "    .dataframe tbody tr th:only-of-type {\n",
       "        vertical-align: middle;\n",
       "    }\n",
       "\n",
       "    .dataframe tbody tr th {\n",
       "        vertical-align: top;\n",
       "    }\n",
       "\n",
       "    .dataframe thead th {\n",
       "        text-align: right;\n",
       "    }\n",
       "</style>\n",
       "<table border=\"1\" class=\"dataframe\">\n",
       "  <thead>\n",
       "    <tr style=\"text-align: right;\">\n",
       "      <th></th>\n",
       "      <th>ID</th>\n",
       "      <th>Target</th>\n",
       "    </tr>\n",
       "  </thead>\n",
       "  <tbody>\n",
       "  </tbody>\n",
       "</table>\n",
       "</div>"
      ],
      "text/plain": [
       "Empty DataFrame\n",
       "Columns: [ID, Target]\n",
       "Index: []"
      ]
     },
     "execution_count": 79,
     "metadata": {},
     "output_type": "execute_result"
    }
   ],
   "source": [
    "# Check for entries with NaN values\n",
    "submission2_df[submission2_df.isna().any(axis=1)]"
   ]
  },
  {
   "cell_type": "code",
   "execution_count": 78,
   "metadata": {},
   "outputs": [],
   "source": [
    "# Replace Nan values with 'values'\n",
    "submission2_df.fillna('values', inplace=True)"
   ]
  },
  {
   "cell_type": "code",
   "execution_count": null,
   "metadata": {},
   "outputs": [],
   "source": [
    "submission2_df.to_csv('submission4_refined.csv', index=False)"
   ]
  },
  {
   "cell_type": "code",
   "execution_count": 7,
   "metadata": {},
   "outputs": [],
   "source": [
    "sample_sub_df = pd.read_csv('../Test.csv')"
   ]
  },
  {
   "cell_type": "code",
   "execution_count": 8,
   "metadata": {},
   "outputs": [
    {
     "data": {
      "text/html": [
       "<div>\n",
       "<style scoped>\n",
       "    .dataframe tbody tr th:only-of-type {\n",
       "        vertical-align: middle;\n",
       "    }\n",
       "\n",
       "    .dataframe tbody tr th {\n",
       "        vertical-align: top;\n",
       "    }\n",
       "\n",
       "    .dataframe thead th {\n",
       "        text-align: right;\n",
       "    }\n",
       "</style>\n",
       "<table border=\"1\" class=\"dataframe\">\n",
       "  <thead>\n",
       "    <tr style=\"text-align: right;\">\n",
       "      <th></th>\n",
       "      <th>ID</th>\n",
       "      <th>Question Text</th>\n",
       "    </tr>\n",
       "  </thead>\n",
       "  <tbody>\n",
       "    <tr>\n",
       "      <th>0</th>\n",
       "      <td>Q4</td>\n",
       "      <td>What is the definition of \"unusual event\"</td>\n",
       "    </tr>\n",
       "    <tr>\n",
       "      <th>1</th>\n",
       "      <td>Q5</td>\n",
       "      <td>What is Community Based Surveillance (CBS)?</td>\n",
       "    </tr>\n",
       "    <tr>\n",
       "      <th>2</th>\n",
       "      <td>Q9</td>\n",
       "      <td>What kind of training should members of VHC re...</td>\n",
       "    </tr>\n",
       "    <tr>\n",
       "      <th>3</th>\n",
       "      <td>Q10</td>\n",
       "      <td>What is indicator based surveillance (IBS)?</td>\n",
       "    </tr>\n",
       "    <tr>\n",
       "      <th>4</th>\n",
       "      <td>Q13</td>\n",
       "      <td>What is Case based surveillance?</td>\n",
       "    </tr>\n",
       "  </tbody>\n",
       "</table>\n",
       "</div>"
      ],
      "text/plain": [
       "    ID                                      Question Text\n",
       "0   Q4          What is the definition of \"unusual event\"\n",
       "1   Q5        What is Community Based Surveillance (CBS)?\n",
       "2   Q9  What kind of training should members of VHC re...\n",
       "3  Q10        What is indicator based surveillance (IBS)?\n",
       "4  Q13                   What is Case based surveillance?"
      ]
     },
     "execution_count": 8,
     "metadata": {},
     "output_type": "execute_result"
    }
   ],
   "source": [
    "sample_sub_df.head()"
   ]
  },
  {
   "cell_type": "code",
   "execution_count": 22,
   "metadata": {},
   "outputs": [],
   "source": [
    "# using the ID values in the ID column and create a list that contains value of the ID concatenated with keywords i.e. Q4_keywords\n",
    "ids = sample_sub_df['ID'].values\n",
    "ids = [f\"{id}_keywords\" for id in ids]"
   ]
  },
  {
   "cell_type": "code",
   "execution_count": 23,
   "metadata": {},
   "outputs": [],
   "source": [
    "import pandas as pd\n",
    "submission5_df = pd.read_csv('../EDA/cpu_submission1.csv')"
   ]
  },
  {
   "cell_type": "code",
   "execution_count": 24,
   "metadata": {},
   "outputs": [
    {
     "data": {
      "text/html": [
       "<div>\n",
       "<style scoped>\n",
       "    .dataframe tbody tr th:only-of-type {\n",
       "        vertical-align: middle;\n",
       "    }\n",
       "\n",
       "    .dataframe tbody tr th {\n",
       "        vertical-align: top;\n",
       "    }\n",
       "\n",
       "    .dataframe thead th {\n",
       "        text-align: right;\n",
       "    }\n",
       "</style>\n",
       "<table border=\"1\" class=\"dataframe\">\n",
       "  <thead>\n",
       "    <tr style=\"text-align: right;\">\n",
       "      <th></th>\n",
       "      <th>ID</th>\n",
       "      <th>Target</th>\n",
       "    </tr>\n",
       "  </thead>\n",
       "  <tbody>\n",
       "    <tr>\n",
       "      <th>0</th>\n",
       "      <td>Q4_keywords</td>\n",
       "      <td>Concern, Definition, Routine, Event, Cluster, ...</td>\n",
       "    </tr>\n",
       "    <tr>\n",
       "      <th>1</th>\n",
       "      <td>Q4_paragraph(s)_number</td>\n",
       "      <td>434</td>\n",
       "    </tr>\n",
       "    <tr>\n",
       "      <th>2</th>\n",
       "      <td>Q4_question_answer</td>\n",
       "      <td>An unusual event is defined as any event that ...</td>\n",
       "    </tr>\n",
       "    <tr>\n",
       "      <th>3</th>\n",
       "      <td>Q4_reference_document</td>\n",
       "      <td>TG Booklet 1</td>\n",
       "    </tr>\n",
       "    <tr>\n",
       "      <th>4</th>\n",
       "      <td>Q5_keywords</td>\n",
       "      <td>Cases, Providing, Feedback, Public, Community,...</td>\n",
       "    </tr>\n",
       "  </tbody>\n",
       "</table>\n",
       "</div>"
      ],
      "text/plain": [
       "                       ID                                             Target\n",
       "0             Q4_keywords  Concern, Definition, Routine, Event, Cluster, ...\n",
       "1  Q4_paragraph(s)_number                                                434\n",
       "2      Q4_question_answer  An unusual event is defined as any event that ...\n",
       "3   Q4_reference_document                                       TG Booklet 1\n",
       "4             Q5_keywords  Cases, Providing, Feedback, Public, Community,..."
      ]
     },
     "execution_count": 24,
     "metadata": {},
     "output_type": "execute_result"
    }
   ],
   "source": [
    "submission5_df.head()"
   ]
  },
  {
   "cell_type": "code",
   "execution_count": 25,
   "metadata": {},
   "outputs": [
    {
     "data": {
      "text/plain": [
       "(1996, 2)"
      ]
     },
     "execution_count": 25,
     "metadata": {},
     "output_type": "execute_result"
    }
   ],
   "source": [
    "submission5_df.shape"
   ]
  },
  {
   "cell_type": "code",
   "execution_count": 11,
   "metadata": {},
   "outputs": [],
   "source": [
    "# Remove duplicates from the submission5_df\n",
    "submission5_df = submission5_df.drop_duplicates(subset=['ID'])"
   ]
  },
  {
   "cell_type": "code",
   "execution_count": 13,
   "metadata": {},
   "outputs": [
    {
     "data": {
      "text/html": [
       "<div>\n",
       "<style scoped>\n",
       "    .dataframe tbody tr th:only-of-type {\n",
       "        vertical-align: middle;\n",
       "    }\n",
       "\n",
       "    .dataframe tbody tr th {\n",
       "        vertical-align: top;\n",
       "    }\n",
       "\n",
       "    .dataframe thead th {\n",
       "        text-align: right;\n",
       "    }\n",
       "</style>\n",
       "<table border=\"1\" class=\"dataframe\">\n",
       "  <thead>\n",
       "    <tr style=\"text-align: right;\">\n",
       "      <th></th>\n",
       "      <th>ID</th>\n",
       "      <th>Target</th>\n",
       "    </tr>\n",
       "  </thead>\n",
       "  <tbody>\n",
       "  </tbody>\n",
       "</table>\n",
       "</div>"
      ],
      "text/plain": [
       "Empty DataFrame\n",
       "Columns: [ID, Target]\n",
       "Index: []"
      ]
     },
     "execution_count": 13,
     "metadata": {},
     "output_type": "execute_result"
    }
   ],
   "source": [
    "# Check for entries with NaN values\n",
    "submission5_df[submission5_df.isna().any(axis=1)]"
   ]
  },
  {
   "cell_type": "code",
   "execution_count": 7,
   "metadata": {},
   "outputs": [
    {
     "data": {
      "text/plain": [
       "73"
      ]
     },
     "execution_count": 7,
     "metadata": {},
     "output_type": "execute_result"
    }
   ],
   "source": [
    "# Count for the number of NaN values in the Target column\n",
    "submission5_df['Target'].isna().sum()"
   ]
  },
  {
   "cell_type": "code",
   "execution_count": 14,
   "metadata": {},
   "outputs": [],
   "source": [
    "# Drop the columns with NaN values\n",
    "submission5_df = submission5_df.dropna()"
   ]
  },
  {
   "cell_type": "code",
   "execution_count": 10,
   "metadata": {},
   "outputs": [],
   "source": [
    "# Remove any white space before the start of the values in the Target column\n",
    "submission5_df['Target'] = submission5_df['Target'].str.strip()"
   ]
  },
  {
   "cell_type": "code",
   "execution_count": 26,
   "metadata": {},
   "outputs": [],
   "source": [
    "# Load submission12_refined and replace the NaN values in submission5_df with the values in submission12_refined\n",
    "submission12_refined = pd.read_csv('../EDA/submission26_refined2.csv')\n",
    "# submission5_df['Target'] = submission5_df['Target'].fillna(submission12_refined['Target'])"
   ]
  },
  {
   "cell_type": "code",
   "execution_count": 29,
   "metadata": {},
   "outputs": [],
   "source": [
    "# Create a copy of the dataframe to avoid fragmentation\n",
    "submission5_df_copy = submission5_df.copy()\n",
    "\n",
    "# Perform the replacement operation\n",
    "for id in ids:\n",
    "    submission5_df_copy.loc[submission5_df_copy['ID'] == id, 'Target'] = submission12_refined.set_index('ID')['Target'].get(id, id)\n"
   ]
  },
  {
   "cell_type": "code",
   "execution_count": 30,
   "metadata": {},
   "outputs": [
    {
     "data": {
      "text/html": [
       "<div>\n",
       "<style scoped>\n",
       "    .dataframe tbody tr th:only-of-type {\n",
       "        vertical-align: middle;\n",
       "    }\n",
       "\n",
       "    .dataframe tbody tr th {\n",
       "        vertical-align: top;\n",
       "    }\n",
       "\n",
       "    .dataframe thead th {\n",
       "        text-align: right;\n",
       "    }\n",
       "</style>\n",
       "<table border=\"1\" class=\"dataframe\">\n",
       "  <thead>\n",
       "    <tr style=\"text-align: right;\">\n",
       "      <th></th>\n",
       "      <th>ID</th>\n",
       "      <th>Target</th>\n",
       "    </tr>\n",
       "  </thead>\n",
       "  <tbody>\n",
       "    <tr>\n",
       "      <th>0</th>\n",
       "      <td>Q4_keywords</td>\n",
       "      <td>Unusual Event, Definition, Occurrence, Locatio...</td>\n",
       "    </tr>\n",
       "    <tr>\n",
       "      <th>1</th>\n",
       "      <td>Q4_paragraph(s)_number</td>\n",
       "      <td>434</td>\n",
       "    </tr>\n",
       "    <tr>\n",
       "      <th>2</th>\n",
       "      <td>Q4_question_answer</td>\n",
       "      <td>An unusual event is defined as any event that ...</td>\n",
       "    </tr>\n",
       "    <tr>\n",
       "      <th>3</th>\n",
       "      <td>Q4_reference_document</td>\n",
       "      <td>TG Booklet 1</td>\n",
       "    </tr>\n",
       "    <tr>\n",
       "      <th>4</th>\n",
       "      <td>Q5_keywords</td>\n",
       "      <td>Community-based Surveillance (CBS), Community ...</td>\n",
       "    </tr>\n",
       "  </tbody>\n",
       "</table>\n",
       "</div>"
      ],
      "text/plain": [
       "                       ID                                             Target\n",
       "0             Q4_keywords  Unusual Event, Definition, Occurrence, Locatio...\n",
       "1  Q4_paragraph(s)_number                                                434\n",
       "2      Q4_question_answer  An unusual event is defined as any event that ...\n",
       "3   Q4_reference_document                                       TG Booklet 1\n",
       "4             Q5_keywords  Community-based Surveillance (CBS), Community ..."
      ]
     },
     "execution_count": 30,
     "metadata": {},
     "output_type": "execute_result"
    }
   ],
   "source": [
    "submission5_df_copy.head()"
   ]
  },
  {
   "cell_type": "code",
   "execution_count": 31,
   "metadata": {},
   "outputs": [],
   "source": [
    "submission5_df_copy.to_csv('cpu_submission_refined__.csv', index=False)"
   ]
  },
  {
   "cell_type": "code",
   "execution_count": 15,
   "metadata": {},
   "outputs": [
    {
     "name": "stderr",
     "output_type": "stream",
     "text": [
      "/tmp/ipykernel_756828/206946888.py:2: UserWarning: Boolean Series key will be reindexed to match DataFrame index.\n",
      "  submission5_df.loc[submission5_df['Target'] == '[]', 'Target'] = submission12_refined[submission5_df['Target'] == '[]']['Target']\n"
     ]
    },
    {
     "ename": "IndexingError",
     "evalue": "Unalignable boolean Series provided as indexer (index of the boolean Series and of the indexed object do not match).",
     "output_type": "error",
     "traceback": [
      "\u001b[0;31m---------------------------------------------------------------------------\u001b[0m",
      "\u001b[0;31mIndexingError\u001b[0m                             Traceback (most recent call last)",
      "Cell \u001b[0;32mIn[15], line 2\u001b[0m\n\u001b[1;32m      1\u001b[0m \u001b[38;5;66;03m# Check for Target values with [] and replace them with the correspondent Target value in submission12_refined\u001b[39;00m\n\u001b[0;32m----> 2\u001b[0m submission5_df\u001b[38;5;241m.\u001b[39mloc[submission5_df[\u001b[38;5;124m'\u001b[39m\u001b[38;5;124mTarget\u001b[39m\u001b[38;5;124m'\u001b[39m] \u001b[38;5;241m==\u001b[39m \u001b[38;5;124m'\u001b[39m\u001b[38;5;124m[]\u001b[39m\u001b[38;5;124m'\u001b[39m, \u001b[38;5;124m'\u001b[39m\u001b[38;5;124mTarget\u001b[39m\u001b[38;5;124m'\u001b[39m] \u001b[38;5;241m=\u001b[39m \u001b[43msubmission12_refined\u001b[49m\u001b[43m[\u001b[49m\u001b[43msubmission5_df\u001b[49m\u001b[43m[\u001b[49m\u001b[38;5;124;43m'\u001b[39;49m\u001b[38;5;124;43mTarget\u001b[39;49m\u001b[38;5;124;43m'\u001b[39;49m\u001b[43m]\u001b[49m\u001b[43m \u001b[49m\u001b[38;5;241;43m==\u001b[39;49m\u001b[43m \u001b[49m\u001b[38;5;124;43m'\u001b[39;49m\u001b[38;5;124;43m[]\u001b[39;49m\u001b[38;5;124;43m'\u001b[39;49m\u001b[43m]\u001b[49m[\u001b[38;5;124m'\u001b[39m\u001b[38;5;124mTarget\u001b[39m\u001b[38;5;124m'\u001b[39m]\n",
      "File \u001b[0;32m~/.miniconda3/lib/python3.10/site-packages/pandas/core/frame.py:3798\u001b[0m, in \u001b[0;36mDataFrame.__getitem__\u001b[0;34m(self, key)\u001b[0m\n\u001b[1;32m   3796\u001b[0m \u001b[38;5;66;03m# Do we have a (boolean) 1d indexer?\u001b[39;00m\n\u001b[1;32m   3797\u001b[0m \u001b[38;5;28;01mif\u001b[39;00m com\u001b[38;5;241m.\u001b[39mis_bool_indexer(key):\n\u001b[0;32m-> 3798\u001b[0m     \u001b[38;5;28;01mreturn\u001b[39;00m \u001b[38;5;28;43mself\u001b[39;49m\u001b[38;5;241;43m.\u001b[39;49m\u001b[43m_getitem_bool_array\u001b[49m\u001b[43m(\u001b[49m\u001b[43mkey\u001b[49m\u001b[43m)\u001b[49m\n\u001b[1;32m   3800\u001b[0m \u001b[38;5;66;03m# We are left with two options: a single key, and a collection of keys,\u001b[39;00m\n\u001b[1;32m   3801\u001b[0m \u001b[38;5;66;03m# We interpret tuples as collections only for non-MultiIndex\u001b[39;00m\n\u001b[1;32m   3802\u001b[0m is_single_key \u001b[38;5;241m=\u001b[39m \u001b[38;5;28misinstance\u001b[39m(key, \u001b[38;5;28mtuple\u001b[39m) \u001b[38;5;129;01mor\u001b[39;00m \u001b[38;5;129;01mnot\u001b[39;00m is_list_like(key)\n",
      "File \u001b[0;32m~/.miniconda3/lib/python3.10/site-packages/pandas/core/frame.py:3851\u001b[0m, in \u001b[0;36mDataFrame._getitem_bool_array\u001b[0;34m(self, key)\u001b[0m\n\u001b[1;32m   3845\u001b[0m     \u001b[38;5;28;01mraise\u001b[39;00m \u001b[38;5;167;01mValueError\u001b[39;00m(\n\u001b[1;32m   3846\u001b[0m         \u001b[38;5;124mf\u001b[39m\u001b[38;5;124m\"\u001b[39m\u001b[38;5;124mItem wrong length \u001b[39m\u001b[38;5;132;01m{\u001b[39;00m\u001b[38;5;28mlen\u001b[39m(key)\u001b[38;5;132;01m}\u001b[39;00m\u001b[38;5;124m instead of \u001b[39m\u001b[38;5;132;01m{\u001b[39;00m\u001b[38;5;28mlen\u001b[39m(\u001b[38;5;28mself\u001b[39m\u001b[38;5;241m.\u001b[39mindex)\u001b[38;5;132;01m}\u001b[39;00m\u001b[38;5;124m.\u001b[39m\u001b[38;5;124m\"\u001b[39m\n\u001b[1;32m   3847\u001b[0m     )\n\u001b[1;32m   3849\u001b[0m \u001b[38;5;66;03m# check_bool_indexer will throw exception if Series key cannot\u001b[39;00m\n\u001b[1;32m   3850\u001b[0m \u001b[38;5;66;03m# be reindexed to match DataFrame rows\u001b[39;00m\n\u001b[0;32m-> 3851\u001b[0m key \u001b[38;5;241m=\u001b[39m \u001b[43mcheck_bool_indexer\u001b[49m\u001b[43m(\u001b[49m\u001b[38;5;28;43mself\u001b[39;49m\u001b[38;5;241;43m.\u001b[39;49m\u001b[43mindex\u001b[49m\u001b[43m,\u001b[49m\u001b[43m \u001b[49m\u001b[43mkey\u001b[49m\u001b[43m)\u001b[49m\n\u001b[1;32m   3852\u001b[0m indexer \u001b[38;5;241m=\u001b[39m key\u001b[38;5;241m.\u001b[39mnonzero()[\u001b[38;5;241m0\u001b[39m]\n\u001b[1;32m   3853\u001b[0m \u001b[38;5;28;01mreturn\u001b[39;00m \u001b[38;5;28mself\u001b[39m\u001b[38;5;241m.\u001b[39m_take_with_is_copy(indexer, axis\u001b[38;5;241m=\u001b[39m\u001b[38;5;241m0\u001b[39m)\n",
      "File \u001b[0;32m~/.miniconda3/lib/python3.10/site-packages/pandas/core/indexing.py:2552\u001b[0m, in \u001b[0;36mcheck_bool_indexer\u001b[0;34m(index, key)\u001b[0m\n\u001b[1;32m   2550\u001b[0m indexer \u001b[38;5;241m=\u001b[39m result\u001b[38;5;241m.\u001b[39mindex\u001b[38;5;241m.\u001b[39mget_indexer_for(index)\n\u001b[1;32m   2551\u001b[0m \u001b[38;5;28;01mif\u001b[39;00m \u001b[38;5;241m-\u001b[39m\u001b[38;5;241m1\u001b[39m \u001b[38;5;129;01min\u001b[39;00m indexer:\n\u001b[0;32m-> 2552\u001b[0m     \u001b[38;5;28;01mraise\u001b[39;00m IndexingError(\n\u001b[1;32m   2553\u001b[0m         \u001b[38;5;124m\"\u001b[39m\u001b[38;5;124mUnalignable boolean Series provided as \u001b[39m\u001b[38;5;124m\"\u001b[39m\n\u001b[1;32m   2554\u001b[0m         \u001b[38;5;124m\"\u001b[39m\u001b[38;5;124mindexer (index of the boolean Series and of \u001b[39m\u001b[38;5;124m\"\u001b[39m\n\u001b[1;32m   2555\u001b[0m         \u001b[38;5;124m\"\u001b[39m\u001b[38;5;124mthe indexed object do not match).\u001b[39m\u001b[38;5;124m\"\u001b[39m\n\u001b[1;32m   2556\u001b[0m     )\n\u001b[1;32m   2558\u001b[0m result \u001b[38;5;241m=\u001b[39m result\u001b[38;5;241m.\u001b[39mtake(indexer)\n\u001b[1;32m   2560\u001b[0m \u001b[38;5;66;03m# fall through for boolean\u001b[39;00m\n",
      "\u001b[0;31mIndexingError\u001b[0m: Unalignable boolean Series provided as indexer (index of the boolean Series and of the indexed object do not match)."
     ]
    }
   ],
   "source": [
    "# Check for Target values with [] and replace them with the correspondent Target value in submission12_refined\n",
    "submission5_df.loc[submission5_df['Target'] == '[]', 'Target'] = submission12_refined[submission5_df['Target'] == '[]']['Target']"
   ]
  },
  {
   "cell_type": "code",
   "execution_count": 15,
   "metadata": {},
   "outputs": [],
   "source": [
    "# Return entries with the ID value having Q{Number}_keywords in both submission5_df and submission12_refined and replace the Target value in submission5_df with the Target value in submission12_refined\n",
    "submission5_df.loc[submission5_df['ID'].str.contains('Q\\d+_keywords'), 'Target'] = submission12_refined[submission5_df['ID'].str.contains('Q\\d+_keywords')]['Target']"
   ]
  },
  {
   "cell_type": "code",
   "execution_count": 10,
   "metadata": {},
   "outputs": [
    {
     "name": "stderr",
     "output_type": "stream",
     "text": [
      "/tmp/ipykernel_43195/1705644741.py:4: FutureWarning: The frame.append method is deprecated and will be removed from pandas in a future version. Use pandas.concat instead.\n",
      "  submission5_df = submission5_df.append(row, ignore_index=True)\n"
     ]
    }
   ],
   "source": [
    "# Add the entries in submission12_refined that are not in submission5_df to submission5_df\n",
    "for index, row in submission12_refined.iterrows():\n",
    "    if row['ID'] not in submission5_df['ID'].values:\n",
    "        submission5_df = submission5_df.append(row, ignore_index=True)"
   ]
  },
  {
   "cell_type": "code",
   "execution_count": 69,
   "metadata": {},
   "outputs": [],
   "source": [
    "# Replace the NaN values with 'values'\n",
    "submission5_df.fillna('target', inplace=True)"
   ]
  },
  {
   "cell_type": "code",
   "execution_count": 24,
   "metadata": {},
   "outputs": [],
   "source": [
    "# Check for Target values in submission5_df that differ from submission12_refined and replace the values in submission5_df with the values in submission12_refined\n",
    "submission5_df[submission5_df['Target'] != submission12_refined['Target']]\n",
    "submission5_df.loc[submission5_df['Target'] != submission12_refined['Target'], 'Target'] = submission12_refined[submission5_df['Target'] != submission12_refined['Target']]['Target']"
   ]
  },
  {
   "cell_type": "code",
   "execution_count": 21,
   "metadata": {},
   "outputs": [],
   "source": [
    "submission5_df.to_csv('cpu_submission2_refined.csv', index=False)"
   ]
  },
  {
   "cell_type": "code",
   "execution_count": null,
   "metadata": {},
   "outputs": [],
   "source": [
    "# Cre"
   ]
  },
  {
   "cell_type": "code",
   "execution_count": 3,
   "metadata": {},
   "outputs": [],
   "source": [
    "submission_5_refined_df = pd.read_csv('../EDA/submission26_refined2.csv')"
   ]
  },
  {
   "cell_type": "code",
   "execution_count": 18,
   "metadata": {},
   "outputs": [],
   "source": [
    "# Compare submission5_df and submission_5_refined_df and replace the different rows in submission5_df with the rows in submission_5_refined_df\n",
    "submission5_df = submission_5_refined_df if submission5_df.equals(submission_5_refined_df) else submission5_df"
   ]
  },
  {
   "cell_type": "code",
   "execution_count": 16,
   "metadata": {},
   "outputs": [],
   "source": [
    "submission_21_df = pd.read_csv('../EDA/submission21_refined.csv')\n",
    "submission_19_df = pd.read_csv('../EDA/submission19_refined.csv')"
   ]
  }
 ],
 "metadata": {
  "kernelspec": {
   "display_name": "base",
   "language": "python",
   "name": "python3"
  },
  "language_info": {
   "codemirror_mode": {
    "name": "ipython",
    "version": 3
   },
   "file_extension": ".py",
   "mimetype": "text/x-python",
   "name": "python",
   "nbconvert_exporter": "python",
   "pygments_lexer": "ipython3",
   "version": "3.10.12"
  }
 },
 "nbformat": 4,
 "nbformat_minor": 2
}
